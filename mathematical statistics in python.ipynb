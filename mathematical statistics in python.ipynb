{
 "cells": [
  {
   "cell_type": "markdown",
   "id": "02e61348",
   "metadata": {},
   "source": [
    "# <center>STATISTICS<br><br> *XZT*"
   ]
  },
  {
   "cell_type": "markdown",
   "id": "8e43584c",
   "metadata": {
    "toc": true
   },
   "source": [
    "<h1>Table of Contents<span class=\"tocSkip\"></span></h1>\n",
    "<div class=\"toc\"><ul class=\"toc-item\"><li><span><a href=\"#摘要\" data-toc-modified-id=\"摘要-1\"><span class=\"toc-item-num\">1&nbsp;&nbsp;</span>摘要</a></span></li><li><span><a href=\"#正文\" data-toc-modified-id=\"正文-2\"><span class=\"toc-item-num\">2&nbsp;&nbsp;</span>正文</a></span><ul class=\"toc-item\"><li><span><a href=\"#描述性统计分析\" data-toc-modified-id=\"描述性统计分析-2.1\"><span class=\"toc-item-num\">2.1&nbsp;&nbsp;</span>描述性统计分析</a></span><ul class=\"toc-item\"><li><span><a href=\"#基本概念\" data-toc-modified-id=\"基本概念-2.1.1\"><span class=\"toc-item-num\">2.1.1&nbsp;&nbsp;</span>基本概念</a></span></li><li><span><a href=\"#符号表示及统计量计算\" data-toc-modified-id=\"符号表示及统计量计算-2.1.2\"><span class=\"toc-item-num\">2.1.2&nbsp;&nbsp;</span>符号表示及统计量计算</a></span></li></ul></li><li><span><a href=\"#分布函数的拟合检验\" data-toc-modified-id=\"分布函数的拟合检验-2.2\"><span class=\"toc-item-num\">2.2&nbsp;&nbsp;</span>分布函数的拟合检验</a></span><ul class=\"toc-item\"><li><span><a href=\"#绘制直方图\" data-toc-modified-id=\"绘制直方图-2.2.1\"><span class=\"toc-item-num\">2.2.1&nbsp;&nbsp;</span>绘制直方图</a></span></li><li><span><a href=\"#分布函数的检验\" data-toc-modified-id=\"分布函数的检验-2.2.2\"><span class=\"toc-item-num\">2.2.2&nbsp;&nbsp;</span>分布函数的检验</a></span></li></ul></li><li><span><a href=\"#参数估计\" data-toc-modified-id=\"参数估计-2.3\"><span class=\"toc-item-num\">2.3&nbsp;&nbsp;</span>参数估计</a></span><ul class=\"toc-item\"><li><span><a href=\"#矩法\" data-toc-modified-id=\"矩法-2.3.1\"><span class=\"toc-item-num\">2.3.1&nbsp;&nbsp;</span>矩法</a></span></li><li><span><a href=\"#极大似然估计\" data-toc-modified-id=\"极大似然估计-2.3.2\"><span class=\"toc-item-num\">2.3.2&nbsp;&nbsp;</span>极大似然估计</a></span></li><li><span><a href=\"#区间估计\" data-toc-modified-id=\"区间估计-2.3.3\"><span class=\"toc-item-num\">2.3.3&nbsp;&nbsp;</span>区间估计</a></span></li></ul></li><li><span><a href=\"#独立性检验\" data-toc-modified-id=\"独立性检验-2.4\"><span class=\"toc-item-num\">2.4&nbsp;&nbsp;</span>独立性检验</a></span></li><li><span><a href=\"#单因素方差分析\" data-toc-modified-id=\"单因素方差分析-2.5\"><span class=\"toc-item-num\">2.5&nbsp;&nbsp;</span>单因素方差分析</a></span></li><li><span><a href=\"#线性回归\" data-toc-modified-id=\"线性回归-2.6\"><span class=\"toc-item-num\">2.6&nbsp;&nbsp;</span>线性回归</a></span><ul class=\"toc-item\"><li><span><a href=\"#简单线性回归\" data-toc-modified-id=\"简单线性回归-2.6.1\"><span class=\"toc-item-num\">2.6.1&nbsp;&nbsp;</span>简单线性回归</a></span><ul class=\"toc-item\"><li><span><a href=\"#系数估计\" data-toc-modified-id=\"系数估计-2.6.1.1\"><span class=\"toc-item-num\">2.6.1.1&nbsp;&nbsp;</span>系数估计</a></span></li><li><span><a href=\"#估计量的检验\" data-toc-modified-id=\"估计量的检验-2.6.1.2\"><span class=\"toc-item-num\">2.6.1.2&nbsp;&nbsp;</span>估计量的检验</a></span></li><li><span><a href=\"#模型拟合度的检验\" data-toc-modified-id=\"模型拟合度的检验-2.6.1.3\"><span class=\"toc-item-num\">2.6.1.3&nbsp;&nbsp;</span>模型拟合度的检验</a></span></li><li><span><a href=\"#模型的预测\" data-toc-modified-id=\"模型的预测-2.6.1.4\"><span class=\"toc-item-num\">2.6.1.4&nbsp;&nbsp;</span>模型的预测</a></span></li></ul></li><li><span><a href=\"#多元线性回归\" data-toc-modified-id=\"多元线性回归-2.6.2\"><span class=\"toc-item-num\">2.6.2&nbsp;&nbsp;</span>多元线性回归</a></span><ul class=\"toc-item\"><li><span><a href=\"#系数估计\" data-toc-modified-id=\"系数估计-2.6.2.1\"><span class=\"toc-item-num\">2.6.2.1&nbsp;&nbsp;</span>系数估计</a></span></li><li><span><a href=\"#估计量的检验\" data-toc-modified-id=\"估计量的检验-2.6.2.2\"><span class=\"toc-item-num\">2.6.2.2&nbsp;&nbsp;</span>估计量的检验</a></span></li><li><span><a href=\"#模型拟合度的检验\" data-toc-modified-id=\"模型拟合度的检验-2.6.2.3\"><span class=\"toc-item-num\">2.6.2.3&nbsp;&nbsp;</span>模型拟合度的检验</a></span></li><li><span><a href=\"#模型的预测\" data-toc-modified-id=\"模型的预测-2.6.2.4\"><span class=\"toc-item-num\">2.6.2.4&nbsp;&nbsp;</span>模型的预测</a></span></li></ul></li></ul></li></ul></li><li><span><a href=\"#总结\" data-toc-modified-id=\"总结-3\"><span class=\"toc-item-num\">3&nbsp;&nbsp;</span>总结</a></span></li></ul></div>"
   ]
  },
  {
   "cell_type": "markdown",
   "id": "e2af610b",
   "metadata": {},
   "source": [
    "## 摘要"
   ]
  },
  {
   "cell_type": "markdown",
   "id": "8f34b911",
   "metadata": {},
   "source": [
    "本文是基于**An Introduction to Statistical Learing（ISLP）**提供的**Auto**数据集，对孙荣恒的**《应用数理统计》**中重点章节的基本总结与**python**应用（在线性回归一节主要参考ISLP）。笔者先介绍了统计量的概念，再通过分布函数的拟合检验、参数估计、独立性检验、方差分析、线性回归对数据集进行了分析。本文仅是借Auto数据集对统计方法进行应用，某些逻辑与方法可能并不适用于实际。"
   ]
  },
  {
   "cell_type": "markdown",
   "id": "66d4852c",
   "metadata": {},
   "source": [
    "## 正文"
   ]
  },
  {
   "cell_type": "markdown",
   "id": "444a05f7",
   "metadata": {},
   "source": [
    "### 描述性统计分析"
   ]
  },
  {
   "cell_type": "markdown",
   "id": "df8fd342",
   "metadata": {},
   "source": [
    "#### 基本概念"
   ]
  },
  {
   "cell_type": "markdown",
   "id": "62753118",
   "metadata": {},
   "source": [
    "&emsp;**总体、个体、样本**是数理统计学中三个最基本的概念，我们称研究对象的全体为总体或母体。称组成总体的每个单元为个体。从总体中随机抽取n个个体，称这n个个体为容量是n的样本。样本观测前是随机变量，观测后是常数。  \n",
    "&emsp;**简单随机抽样**指的是在总体中，相互独立地抽取样本。这种抽样方式有两个重要的性质：  \n",
    "&emsp;&emsp;$\\bullet$每一个样本作为随机变量，它与总体都是同分布的。  \n",
    "&emsp;&emsp;$\\bullet$每一个样本作为随机变量，它们相互之间都是独立的。  \n",
    "&emsp;符号表示为：$$\\xi_1,\\xi_2,\\cdots,\\xi_n\\sim\\xi \\quad i.i.d$$  \n",
    "&emsp;对总体进行统计推断的依据是样本提供的信息，然而样本是n维随机向量或n个随机变量，讨论起来很不方便，自然会想到能否用样本的函数代替样本对总体进行统计推断。而且，这个函数最好是一个随机变量。由此，我们引入如下**统计量**。  \n",
    "&emsp;**统计量**：设$(\\xi_1,\\cdots,\\xi_n)$为总体$\\xi$的样本，$T(\\xi_1,\\cdots,\\xi_n)$为样本空间$\\Xi$上的实值波雷尔可测函数，如果$T(\\xi_1,\\cdots,\\xi_n)$中不包含任何未知参数，则称$T(\\xi_1,\\cdots,\\xi_n)$为一个统计量。\n",
    "\n",
    "\n",
    "\n",
    "\n",
    "\n"
   ]
  },
  {
   "cell_type": "markdown",
   "id": "c9199bc6",
   "metadata": {},
   "source": [
    "#### 符号表示及统计量计算"
   ]
  },
  {
   "cell_type": "markdown",
   "id": "90e22214",
   "metadata": {},
   "source": [
    "&emsp;**统计量**提供了总体的部分信息，为了后续**分布假设检验、参数检验、独立性检验、方差分析等**的需要，笔者在这一节为读者给出我们所需要的统计量及其在本文中的符号表示，并给出部分统计量的分布，最后利用***AUTO***数据集计算出随机变量的统计量。"
   ]
  },
  {
   "cell_type": "markdown",
   "id": "2f180e2b",
   "metadata": {},
   "source": [
    "&emsp;本文所需统计量：  \n"
   ]
  },
  {
   "cell_type": "markdown",
   "id": "653efcd2",
   "metadata": {},
   "source": [
    "|符号|统计量名称（或分布)|代码表示（简写）|\n",
    "|:---:|:---:|:---:|\n",
    "|$$\\mu$$|总体均值|NAN|\n",
    "|$$\\sigma^2$$|总体方差|NAN|\n",
    "|$$\\overline{\\xi}=\\frac{\\sum_{i=1}^{n}{\\xi_i}}{n}$$|均值|mean|\n",
    "|$$S^2=\\frac{\\sum_{i=1}^{n}{(\\xi_i-\\overline{\\xi})^2}}{n}=\\frac{\\sum_{i=1}^{n}{\\xi_i^2}}{n}-\\overline{\\xi}^2$$|方差|var|\n",
    "|$$S$$|标准差|std|\n",
    "|$$\\tilde{S}^2=\\frac{n}{n-1}S^2$$|修正样本方差（无偏估计量）|cvar|\n",
    "|$$\\frac{\\sum_{i=1}^{n}{(\\xi_i-\\mu)^2}}{n}$$|已知$\\mu$时方差的有效估计量|uvar|\n",
    "|$$S_{12}=\\frac{\\sum_{i=1}^{n}{(\\xi_i-\\overline{\\xi})(\\eta_i-\\overline{\\eta})}}{n}=\\frac{\\sum_{i=1}^{n}{\\xi_i\\eta_i}}{n}-\\overline{\\xi}\\overline{\\eta}$$|协方差|covar|\n",
    "|$$\\rho=\\frac{S_{12}}{S_1S_2}$$|相关系数|p|\n",
    "|$$\\xi_{(i)}$$|顺序统计量|NAN|\n",
    "|$$\\xi_{(1)}$$|极小值|m|\n",
    "|$$\\xi_{(n)}$$|极大值|M|\n",
    "|$$R_n=\\xi_{(n)}-\\xi_{(1)}$$|极差|R|\n",
    "|$$\\frac{\\overline{\\xi}-\\mu}{\\sigma/\\sqrt{n}},\\xi\\sim N(\\mu,\\sigma^2)$$|$$N(0,1)$$|N_01|\n",
    "|$$\\frac{nS^2}{\\sigma^2},\\xi\\sim N(\\mu,\\sigma^2)$$|$$\\chi^2(n-1)$$|X2|\n",
    "|$$\\frac{\\overline{\\xi}-\\mu}{S/\\sqrt{n-1}},\\xi\\sim N(\\mu,\\sigma^2)$$|$$t(n-1)$$|t|\n",
    "|$$A_k=\\frac{1}{n}\\sum_{i=1}^{n}{\\xi_i^k}$$|样本的k阶原点矩|k_moment|\n",
    "|$$B_k=\\frac{\\sum_{i=1}^{n}{(\\xi_i-\\overline{\\xi})^k}}{n}$$|样本的k阶中心矩|k_cmoment|\n",
    "|$$g_1=\\frac{B_3}{B_2^{3/2}}$$|偏度|skewness|\n",
    "|$$g_2=\\frac{B_4}{B_2^2}$$|峰度|kurtosis|\n",
    "|$$F_n^*(x)$$|经验分布函数|ecdf|"
   ]
  },
  {
   "cell_type": "markdown",
   "id": "5297fe2d",
   "metadata": {},
   "source": [
    "现在我们利用***AUTO***数据集计算各个随机变量的统计量。"
   ]
  },
  {
   "cell_type": "markdown",
   "id": "e73eb5f3",
   "metadata": {},
   "source": [
    "***AUTO***有以下9个变量：  \n",
    "&emsp;$\\bullet$**mpg**: miles per gallon  \n",
    "&emsp;$\\bullet$**cylinders**:Number of cylinders between 4 and 8  \n",
    "&emsp;$\\bullet$**displacement**: Engine displacement (cu. inches)  \n",
    "&emsp;$\\bullet$**horsepower**: Engine horsepower  \n",
    "&emsp;$\\bullet$**weight**:Vehicle weight (lbs.)  \n",
    "&emsp;$\\bullet$**acceleration**:Time to accelerate from 0 to 60 mph (sec.)  \n",
    "&emsp;$\\bullet$**year**:Model year (modulo 100)  \n",
    "&emsp;$\\bullet$**origin**: Origin of car (1. American, 2. European, 3. Japanese)  \n",
    "&emsp;$\\bullet$**name**: Vehicle name\n",
    "\n",
    "\n"
   ]
  },
  {
   "cell_type": "markdown",
   "id": "be7d0ffc",
   "metadata": {},
   "source": [
    "自然，我们在这里不考虑**name**变量"
   ]
  },
  {
   "cell_type": "markdown",
   "id": "87036850",
   "metadata": {},
   "source": [
    "先导入***AUTO***数据集："
   ]
  },
  {
   "cell_type": "code",
   "execution_count": 1,
   "id": "8b2a2551",
   "metadata": {
    "scrolled": false
   },
   "outputs": [
    {
     "data": {
      "text/html": [
       "<div>\n",
       "<style scoped>\n",
       "    .dataframe tbody tr th:only-of-type {\n",
       "        vertical-align: middle;\n",
       "    }\n",
       "\n",
       "    .dataframe tbody tr th {\n",
       "        vertical-align: top;\n",
       "    }\n",
       "\n",
       "    .dataframe thead th {\n",
       "        text-align: right;\n",
       "    }\n",
       "</style>\n",
       "<table border=\"1\" class=\"dataframe\">\n",
       "  <thead>\n",
       "    <tr style=\"text-align: right;\">\n",
       "      <th></th>\n",
       "      <th>mpg</th>\n",
       "      <th>cylinders</th>\n",
       "      <th>displacement</th>\n",
       "      <th>horsepower</th>\n",
       "      <th>weight</th>\n",
       "      <th>acceleration</th>\n",
       "      <th>year</th>\n",
       "      <th>origin</th>\n",
       "      <th>name</th>\n",
       "    </tr>\n",
       "  </thead>\n",
       "  <tbody>\n",
       "    <tr>\n",
       "      <th>0</th>\n",
       "      <td>18.0</td>\n",
       "      <td>8</td>\n",
       "      <td>307.0</td>\n",
       "      <td>130</td>\n",
       "      <td>3504</td>\n",
       "      <td>12.0</td>\n",
       "      <td>70</td>\n",
       "      <td>1</td>\n",
       "      <td>chevrolet chevelle malibu</td>\n",
       "    </tr>\n",
       "    <tr>\n",
       "      <th>1</th>\n",
       "      <td>15.0</td>\n",
       "      <td>8</td>\n",
       "      <td>350.0</td>\n",
       "      <td>165</td>\n",
       "      <td>3693</td>\n",
       "      <td>11.5</td>\n",
       "      <td>70</td>\n",
       "      <td>1</td>\n",
       "      <td>buick skylark 320</td>\n",
       "    </tr>\n",
       "    <tr>\n",
       "      <th>2</th>\n",
       "      <td>18.0</td>\n",
       "      <td>8</td>\n",
       "      <td>318.0</td>\n",
       "      <td>150</td>\n",
       "      <td>3436</td>\n",
       "      <td>11.0</td>\n",
       "      <td>70</td>\n",
       "      <td>1</td>\n",
       "      <td>plymouth satellite</td>\n",
       "    </tr>\n",
       "    <tr>\n",
       "      <th>3</th>\n",
       "      <td>16.0</td>\n",
       "      <td>8</td>\n",
       "      <td>304.0</td>\n",
       "      <td>150</td>\n",
       "      <td>3433</td>\n",
       "      <td>12.0</td>\n",
       "      <td>70</td>\n",
       "      <td>1</td>\n",
       "      <td>amc rebel sst</td>\n",
       "    </tr>\n",
       "    <tr>\n",
       "      <th>4</th>\n",
       "      <td>17.0</td>\n",
       "      <td>8</td>\n",
       "      <td>302.0</td>\n",
       "      <td>140</td>\n",
       "      <td>3449</td>\n",
       "      <td>10.5</td>\n",
       "      <td>70</td>\n",
       "      <td>1</td>\n",
       "      <td>ford torino</td>\n",
       "    </tr>\n",
       "    <tr>\n",
       "      <th>...</th>\n",
       "      <td>...</td>\n",
       "      <td>...</td>\n",
       "      <td>...</td>\n",
       "      <td>...</td>\n",
       "      <td>...</td>\n",
       "      <td>...</td>\n",
       "      <td>...</td>\n",
       "      <td>...</td>\n",
       "      <td>...</td>\n",
       "    </tr>\n",
       "    <tr>\n",
       "      <th>387</th>\n",
       "      <td>27.0</td>\n",
       "      <td>4</td>\n",
       "      <td>140.0</td>\n",
       "      <td>86</td>\n",
       "      <td>2790</td>\n",
       "      <td>15.6</td>\n",
       "      <td>82</td>\n",
       "      <td>1</td>\n",
       "      <td>ford mustang gl</td>\n",
       "    </tr>\n",
       "    <tr>\n",
       "      <th>388</th>\n",
       "      <td>44.0</td>\n",
       "      <td>4</td>\n",
       "      <td>97.0</td>\n",
       "      <td>52</td>\n",
       "      <td>2130</td>\n",
       "      <td>24.6</td>\n",
       "      <td>82</td>\n",
       "      <td>2</td>\n",
       "      <td>vw pickup</td>\n",
       "    </tr>\n",
       "    <tr>\n",
       "      <th>389</th>\n",
       "      <td>32.0</td>\n",
       "      <td>4</td>\n",
       "      <td>135.0</td>\n",
       "      <td>84</td>\n",
       "      <td>2295</td>\n",
       "      <td>11.6</td>\n",
       "      <td>82</td>\n",
       "      <td>1</td>\n",
       "      <td>dodge rampage</td>\n",
       "    </tr>\n",
       "    <tr>\n",
       "      <th>390</th>\n",
       "      <td>28.0</td>\n",
       "      <td>4</td>\n",
       "      <td>120.0</td>\n",
       "      <td>79</td>\n",
       "      <td>2625</td>\n",
       "      <td>18.6</td>\n",
       "      <td>82</td>\n",
       "      <td>1</td>\n",
       "      <td>ford ranger</td>\n",
       "    </tr>\n",
       "    <tr>\n",
       "      <th>391</th>\n",
       "      <td>31.0</td>\n",
       "      <td>4</td>\n",
       "      <td>119.0</td>\n",
       "      <td>82</td>\n",
       "      <td>2720</td>\n",
       "      <td>19.4</td>\n",
       "      <td>82</td>\n",
       "      <td>1</td>\n",
       "      <td>chevy s-10</td>\n",
       "    </tr>\n",
       "  </tbody>\n",
       "</table>\n",
       "<p>392 rows × 9 columns</p>\n",
       "</div>"
      ],
      "text/plain": [
       "      mpg  cylinders  displacement  horsepower  weight  acceleration  year  \\\n",
       "0    18.0          8         307.0         130    3504          12.0    70   \n",
       "1    15.0          8         350.0         165    3693          11.5    70   \n",
       "2    18.0          8         318.0         150    3436          11.0    70   \n",
       "3    16.0          8         304.0         150    3433          12.0    70   \n",
       "4    17.0          8         302.0         140    3449          10.5    70   \n",
       "..    ...        ...           ...         ...     ...           ...   ...   \n",
       "387  27.0          4         140.0          86    2790          15.6    82   \n",
       "388  44.0          4          97.0          52    2130          24.6    82   \n",
       "389  32.0          4         135.0          84    2295          11.6    82   \n",
       "390  28.0          4         120.0          79    2625          18.6    82   \n",
       "391  31.0          4         119.0          82    2720          19.4    82   \n",
       "\n",
       "     origin                       name  \n",
       "0         1  chevrolet chevelle malibu  \n",
       "1         1          buick skylark 320  \n",
       "2         1         plymouth satellite  \n",
       "3         1              amc rebel sst  \n",
       "4         1                ford torino  \n",
       "..      ...                        ...  \n",
       "387       1            ford mustang gl  \n",
       "388       2                  vw pickup  \n",
       "389       1              dodge rampage  \n",
       "390       1                ford ranger  \n",
       "391       1                 chevy s-10  \n",
       "\n",
       "[392 rows x 9 columns]"
      ]
     },
     "execution_count": 1,
     "metadata": {},
     "output_type": "execute_result"
    }
   ],
   "source": [
    "from ISLP import load_data\n",
    "AUTO=load_data(\"Auto\")\n",
    "AUTO"
   ]
  },
  {
   "cell_type": "markdown",
   "id": "d0325c7e",
   "metadata": {},
   "source": [
    "**求各个随机变量的统计量。**"
   ]
  },
  {
   "cell_type": "code",
   "execution_count": 2,
   "id": "629be8a2",
   "metadata": {
    "scrolled": true
   },
   "outputs": [
    {
     "data": {
      "text/html": [
       "<div>\n",
       "<style scoped>\n",
       "    .dataframe tbody tr th:only-of-type {\n",
       "        vertical-align: middle;\n",
       "    }\n",
       "\n",
       "    .dataframe tbody tr th {\n",
       "        vertical-align: top;\n",
       "    }\n",
       "\n",
       "    .dataframe thead th {\n",
       "        text-align: right;\n",
       "    }\n",
       "</style>\n",
       "<table border=\"1\" class=\"dataframe\">\n",
       "  <thead>\n",
       "    <tr style=\"text-align: right;\">\n",
       "      <th></th>\n",
       "      <th>mpg</th>\n",
       "      <th>cylinders</th>\n",
       "      <th>displacement</th>\n",
       "      <th>horsepower</th>\n",
       "      <th>weight</th>\n",
       "      <th>acceleration</th>\n",
       "      <th>year</th>\n",
       "      <th>origin</th>\n",
       "    </tr>\n",
       "  </thead>\n",
       "  <tbody>\n",
       "    <tr>\n",
       "      <th>mean</th>\n",
       "      <td>23.445918</td>\n",
       "      <td>5.471939</td>\n",
       "      <td>194.411990</td>\n",
       "      <td>104.469388</td>\n",
       "      <td>2977.584184</td>\n",
       "      <td>15.541327</td>\n",
       "      <td>75.979592</td>\n",
       "      <td>1.576531</td>\n",
       "    </tr>\n",
       "    <tr>\n",
       "      <th>var</th>\n",
       "      <td>60.762738</td>\n",
       "      <td>2.902274</td>\n",
       "      <td>10922.432943</td>\n",
       "      <td>1477.789879</td>\n",
       "      <td>719644.186791</td>\n",
       "      <td>7.591915</td>\n",
       "      <td>13.535298</td>\n",
       "      <td>0.647204</td>\n",
       "    </tr>\n",
       "    <tr>\n",
       "      <th>std</th>\n",
       "      <td>7.795046</td>\n",
       "      <td>1.703606</td>\n",
       "      <td>104.510444</td>\n",
       "      <td>38.442033</td>\n",
       "      <td>848.318447</td>\n",
       "      <td>2.755343</td>\n",
       "      <td>3.679035</td>\n",
       "      <td>0.804490</td>\n",
       "    </tr>\n",
       "    <tr>\n",
       "      <th>cvar</th>\n",
       "      <td>60.918142</td>\n",
       "      <td>2.909696</td>\n",
       "      <td>10950.367554</td>\n",
       "      <td>1481.569393</td>\n",
       "      <td>721484.709008</td>\n",
       "      <td>7.611331</td>\n",
       "      <td>13.569915</td>\n",
       "      <td>0.648860</td>\n",
       "    </tr>\n",
       "    <tr>\n",
       "      <th>m</th>\n",
       "      <td>9.000000</td>\n",
       "      <td>3.000000</td>\n",
       "      <td>68.000000</td>\n",
       "      <td>46.000000</td>\n",
       "      <td>1613.000000</td>\n",
       "      <td>8.000000</td>\n",
       "      <td>70.000000</td>\n",
       "      <td>1.000000</td>\n",
       "    </tr>\n",
       "    <tr>\n",
       "      <th>M</th>\n",
       "      <td>46.600000</td>\n",
       "      <td>8.000000</td>\n",
       "      <td>455.000000</td>\n",
       "      <td>230.000000</td>\n",
       "      <td>5140.000000</td>\n",
       "      <td>24.800000</td>\n",
       "      <td>82.000000</td>\n",
       "      <td>3.000000</td>\n",
       "    </tr>\n",
       "    <tr>\n",
       "      <th>R</th>\n",
       "      <td>37.600000</td>\n",
       "      <td>5.000000</td>\n",
       "      <td>387.000000</td>\n",
       "      <td>184.000000</td>\n",
       "      <td>3527.000000</td>\n",
       "      <td>16.800000</td>\n",
       "      <td>12.000000</td>\n",
       "      <td>2.000000</td>\n",
       "    </tr>\n",
       "    <tr>\n",
       "      <th>skewness</th>\n",
       "      <td>0.455341</td>\n",
       "      <td>0.506163</td>\n",
       "      <td>0.698981</td>\n",
       "      <td>1.083161</td>\n",
       "      <td>0.517595</td>\n",
       "      <td>0.290470</td>\n",
       "      <td>0.019613</td>\n",
       "      <td>0.911679</td>\n",
       "    </tr>\n",
       "    <tr>\n",
       "      <th>kurtosis</th>\n",
       "      <td>2.475297</td>\n",
       "      <td>1.604305</td>\n",
       "      <td>2.216308</td>\n",
       "      <td>3.672822</td>\n",
       "      <td>2.185759</td>\n",
       "      <td>3.423320</td>\n",
       "      <td>1.832124</td>\n",
       "      <td>2.153547</td>\n",
       "    </tr>\n",
       "  </tbody>\n",
       "</table>\n",
       "</div>"
      ],
      "text/plain": [
       "                mpg  cylinders  displacement   horsepower         weight  \\\n",
       "mean      23.445918   5.471939    194.411990   104.469388    2977.584184   \n",
       "var       60.762738   2.902274  10922.432943  1477.789879  719644.186791   \n",
       "std        7.795046   1.703606    104.510444    38.442033     848.318447   \n",
       "cvar      60.918142   2.909696  10950.367554  1481.569393  721484.709008   \n",
       "m          9.000000   3.000000     68.000000    46.000000    1613.000000   \n",
       "M         46.600000   8.000000    455.000000   230.000000    5140.000000   \n",
       "R         37.600000   5.000000    387.000000   184.000000    3527.000000   \n",
       "skewness   0.455341   0.506163      0.698981     1.083161       0.517595   \n",
       "kurtosis   2.475297   1.604305      2.216308     3.672822       2.185759   \n",
       "\n",
       "          acceleration       year    origin  \n",
       "mean         15.541327  75.979592  1.576531  \n",
       "var           7.591915  13.535298  0.647204  \n",
       "std           2.755343   3.679035  0.804490  \n",
       "cvar          7.611331  13.569915  0.648860  \n",
       "m             8.000000  70.000000  1.000000  \n",
       "M            24.800000  82.000000  3.000000  \n",
       "R            16.800000  12.000000  2.000000  \n",
       "skewness      0.290470   0.019613  0.911679  \n",
       "kurtosis      3.423320   1.832124  2.153547  "
      ]
     },
     "execution_count": 2,
     "metadata": {},
     "output_type": "execute_result"
    }
   ],
   "source": [
    "import numpy as np\n",
    "import pandas as pd\n",
    "import scipy.stats as st\n",
    "n=len(AUTO.iloc[:,0]) #计算样本个数\n",
    "mean=[np.mean(AUTO.iloc[:,i]) for i in range(8)]\n",
    "var=[np.var(AUTO.iloc[:,i]) for i in range(8)]\n",
    "std=[np.std(AUTO.iloc[:,i]) for i in range(8)]\n",
    "cvar=(n/(n-1))*np.array(var)\n",
    "m=[np.min(AUTO.iloc[:,i]) for i in range(8)]\n",
    "M=[np.max(AUTO.iloc[:,i]) for i in range(8)]\n",
    "R=[np.max(AUTO.iloc[:,i])-np.min(AUTO.iloc[:,i]) for i in range(8)]\n",
    "skewness=[st.skew(AUTO.iloc[:,i]) for i in range(8)]\n",
    "kurtosis=[st.kurtosis(AUTO.iloc[:,i],fisher=False) for i in range(8)]\n",
    "statistic=[mean,var,std,cvar,m,M,R,skewness,kurtosis]\n",
    "columns=list(AUTO.columns)\n",
    "del columns[-1]\n",
    "index=['mean','var','std','cvar','m','M','R','skewness','kurtosis']\n",
    "T=pd.DataFrame(statistic,columns=columns,index=index) #统计量\n",
    "T"
   ]
  },
  {
   "cell_type": "markdown",
   "id": "1436eb7f",
   "metadata": {},
   "source": [
    "**求随机变量的协方差矩阵**"
   ]
  },
  {
   "cell_type": "code",
   "execution_count": 3,
   "id": "c7827dea",
   "metadata": {},
   "outputs": [
    {
     "data": {
      "text/html": [
       "<div>\n",
       "<style scoped>\n",
       "    .dataframe tbody tr th:only-of-type {\n",
       "        vertical-align: middle;\n",
       "    }\n",
       "\n",
       "    .dataframe tbody tr th {\n",
       "        vertical-align: top;\n",
       "    }\n",
       "\n",
       "    .dataframe thead th {\n",
       "        text-align: right;\n",
       "    }\n",
       "</style>\n",
       "<table border=\"1\" class=\"dataframe\">\n",
       "  <thead>\n",
       "    <tr style=\"text-align: right;\">\n",
       "      <th></th>\n",
       "      <th>mpg</th>\n",
       "      <th>cylinders</th>\n",
       "      <th>displacement</th>\n",
       "      <th>horsepower</th>\n",
       "      <th>weight</th>\n",
       "      <th>acceleration</th>\n",
       "      <th>year</th>\n",
       "      <th>origin</th>\n",
       "    </tr>\n",
       "  </thead>\n",
       "  <tbody>\n",
       "    <tr>\n",
       "      <th>mpg</th>\n",
       "      <td>60.918142</td>\n",
       "      <td>-10.352928</td>\n",
       "      <td>-657.585207</td>\n",
       "      <td>-233.857926</td>\n",
       "      <td>-5517.440704</td>\n",
       "      <td>9.115514</td>\n",
       "      <td>16.691477</td>\n",
       "      <td>3.553510</td>\n",
       "    </tr>\n",
       "    <tr>\n",
       "      <th>cylinders</th>\n",
       "      <td>-10.352928</td>\n",
       "      <td>2.909696</td>\n",
       "      <td>169.721949</td>\n",
       "      <td>55.348244</td>\n",
       "      <td>1300.424363</td>\n",
       "      <td>-2.375052</td>\n",
       "      <td>-2.171930</td>\n",
       "      <td>-0.781734</td>\n",
       "    </tr>\n",
       "    <tr>\n",
       "      <th>displacement</th>\n",
       "      <td>-657.585207</td>\n",
       "      <td>169.721949</td>\n",
       "      <td>10950.367554</td>\n",
       "      <td>3614.033744</td>\n",
       "      <td>82929.100139</td>\n",
       "      <td>-156.994435</td>\n",
       "      <td>-142.572133</td>\n",
       "      <td>-51.800792</td>\n",
       "    </tr>\n",
       "    <tr>\n",
       "      <th>horsepower</th>\n",
       "      <td>-233.857926</td>\n",
       "      <td>55.348244</td>\n",
       "      <td>3614.033744</td>\n",
       "      <td>1481.569393</td>\n",
       "      <td>28265.620231</td>\n",
       "      <td>-73.186967</td>\n",
       "      <td>-59.036432</td>\n",
       "      <td>-14.112741</td>\n",
       "    </tr>\n",
       "    <tr>\n",
       "      <th>weight</th>\n",
       "      <td>-5517.440704</td>\n",
       "      <td>1300.424363</td>\n",
       "      <td>82929.100139</td>\n",
       "      <td>28265.620231</td>\n",
       "      <td>721484.709008</td>\n",
       "      <td>-976.815253</td>\n",
       "      <td>-967.228457</td>\n",
       "      <td>-400.266050</td>\n",
       "    </tr>\n",
       "    <tr>\n",
       "      <th>acceleration</th>\n",
       "      <td>9.115514</td>\n",
       "      <td>-2.375052</td>\n",
       "      <td>-156.994435</td>\n",
       "      <td>-73.186967</td>\n",
       "      <td>-976.815253</td>\n",
       "      <td>7.611331</td>\n",
       "      <td>2.950462</td>\n",
       "      <td>0.472788</td>\n",
       "    </tr>\n",
       "    <tr>\n",
       "      <th>year</th>\n",
       "      <td>16.691477</td>\n",
       "      <td>-2.171930</td>\n",
       "      <td>-142.572133</td>\n",
       "      <td>-59.036432</td>\n",
       "      <td>-967.228457</td>\n",
       "      <td>2.950462</td>\n",
       "      <td>13.569915</td>\n",
       "      <td>0.538650</td>\n",
       "    </tr>\n",
       "    <tr>\n",
       "      <th>origin</th>\n",
       "      <td>3.553510</td>\n",
       "      <td>-0.781734</td>\n",
       "      <td>-51.800792</td>\n",
       "      <td>-14.112741</td>\n",
       "      <td>-400.266050</td>\n",
       "      <td>0.472788</td>\n",
       "      <td>0.538650</td>\n",
       "      <td>0.648860</td>\n",
       "    </tr>\n",
       "  </tbody>\n",
       "</table>\n",
       "</div>"
      ],
      "text/plain": [
       "                      mpg    cylinders  displacement    horsepower  \\\n",
       "mpg             60.918142   -10.352928   -657.585207   -233.857926   \n",
       "cylinders      -10.352928     2.909696    169.721949     55.348244   \n",
       "displacement  -657.585207   169.721949  10950.367554   3614.033744   \n",
       "horsepower    -233.857926    55.348244   3614.033744   1481.569393   \n",
       "weight       -5517.440704  1300.424363  82929.100139  28265.620231   \n",
       "acceleration     9.115514    -2.375052   -156.994435    -73.186967   \n",
       "year            16.691477    -2.171930   -142.572133    -59.036432   \n",
       "origin           3.553510    -0.781734    -51.800792    -14.112741   \n",
       "\n",
       "                     weight  acceleration        year      origin  \n",
       "mpg            -5517.440704      9.115514   16.691477    3.553510  \n",
       "cylinders       1300.424363     -2.375052   -2.171930   -0.781734  \n",
       "displacement   82929.100139   -156.994435 -142.572133  -51.800792  \n",
       "horsepower     28265.620231    -73.186967  -59.036432  -14.112741  \n",
       "weight        721484.709008   -976.815253 -967.228457 -400.266050  \n",
       "acceleration    -976.815253      7.611331    2.950462    0.472788  \n",
       "year            -967.228457      2.950462   13.569915    0.538650  \n",
       "origin          -400.266050      0.472788    0.538650    0.648860  "
      ]
     },
     "execution_count": 3,
     "metadata": {},
     "output_type": "execute_result"
    }
   ],
   "source": [
    "AUTO.drop(columns='name').cov()"
   ]
  },
  {
   "cell_type": "markdown",
   "id": "91504b16",
   "metadata": {},
   "source": [
    "**相关系数矩阵**"
   ]
  },
  {
   "cell_type": "code",
   "execution_count": 4,
   "id": "5d40256e",
   "metadata": {
    "scrolled": true
   },
   "outputs": [
    {
     "data": {
      "text/html": [
       "<div>\n",
       "<style scoped>\n",
       "    .dataframe tbody tr th:only-of-type {\n",
       "        vertical-align: middle;\n",
       "    }\n",
       "\n",
       "    .dataframe tbody tr th {\n",
       "        vertical-align: top;\n",
       "    }\n",
       "\n",
       "    .dataframe thead th {\n",
       "        text-align: right;\n",
       "    }\n",
       "</style>\n",
       "<table border=\"1\" class=\"dataframe\">\n",
       "  <thead>\n",
       "    <tr style=\"text-align: right;\">\n",
       "      <th></th>\n",
       "      <th>mpg</th>\n",
       "      <th>cylinders</th>\n",
       "      <th>displacement</th>\n",
       "      <th>horsepower</th>\n",
       "      <th>weight</th>\n",
       "      <th>acceleration</th>\n",
       "      <th>year</th>\n",
       "      <th>origin</th>\n",
       "    </tr>\n",
       "  </thead>\n",
       "  <tbody>\n",
       "    <tr>\n",
       "      <th>mpg</th>\n",
       "      <td>1.000000</td>\n",
       "      <td>-0.777618</td>\n",
       "      <td>-0.805127</td>\n",
       "      <td>-0.778427</td>\n",
       "      <td>-0.832244</td>\n",
       "      <td>0.423329</td>\n",
       "      <td>0.580541</td>\n",
       "      <td>0.565209</td>\n",
       "    </tr>\n",
       "    <tr>\n",
       "      <th>cylinders</th>\n",
       "      <td>-0.777618</td>\n",
       "      <td>1.000000</td>\n",
       "      <td>0.950823</td>\n",
       "      <td>0.842983</td>\n",
       "      <td>0.897527</td>\n",
       "      <td>-0.504683</td>\n",
       "      <td>-0.345647</td>\n",
       "      <td>-0.568932</td>\n",
       "    </tr>\n",
       "    <tr>\n",
       "      <th>displacement</th>\n",
       "      <td>-0.805127</td>\n",
       "      <td>0.950823</td>\n",
       "      <td>1.000000</td>\n",
       "      <td>0.897257</td>\n",
       "      <td>0.932994</td>\n",
       "      <td>-0.543800</td>\n",
       "      <td>-0.369855</td>\n",
       "      <td>-0.614535</td>\n",
       "    </tr>\n",
       "    <tr>\n",
       "      <th>horsepower</th>\n",
       "      <td>-0.778427</td>\n",
       "      <td>0.842983</td>\n",
       "      <td>0.897257</td>\n",
       "      <td>1.000000</td>\n",
       "      <td>0.864538</td>\n",
       "      <td>-0.689196</td>\n",
       "      <td>-0.416361</td>\n",
       "      <td>-0.455171</td>\n",
       "    </tr>\n",
       "    <tr>\n",
       "      <th>weight</th>\n",
       "      <td>-0.832244</td>\n",
       "      <td>0.897527</td>\n",
       "      <td>0.932994</td>\n",
       "      <td>0.864538</td>\n",
       "      <td>1.000000</td>\n",
       "      <td>-0.416839</td>\n",
       "      <td>-0.309120</td>\n",
       "      <td>-0.585005</td>\n",
       "    </tr>\n",
       "    <tr>\n",
       "      <th>acceleration</th>\n",
       "      <td>0.423329</td>\n",
       "      <td>-0.504683</td>\n",
       "      <td>-0.543800</td>\n",
       "      <td>-0.689196</td>\n",
       "      <td>-0.416839</td>\n",
       "      <td>1.000000</td>\n",
       "      <td>0.290316</td>\n",
       "      <td>0.212746</td>\n",
       "    </tr>\n",
       "    <tr>\n",
       "      <th>year</th>\n",
       "      <td>0.580541</td>\n",
       "      <td>-0.345647</td>\n",
       "      <td>-0.369855</td>\n",
       "      <td>-0.416361</td>\n",
       "      <td>-0.309120</td>\n",
       "      <td>0.290316</td>\n",
       "      <td>1.000000</td>\n",
       "      <td>0.181528</td>\n",
       "    </tr>\n",
       "    <tr>\n",
       "      <th>origin</th>\n",
       "      <td>0.565209</td>\n",
       "      <td>-0.568932</td>\n",
       "      <td>-0.614535</td>\n",
       "      <td>-0.455171</td>\n",
       "      <td>-0.585005</td>\n",
       "      <td>0.212746</td>\n",
       "      <td>0.181528</td>\n",
       "      <td>1.000000</td>\n",
       "    </tr>\n",
       "  </tbody>\n",
       "</table>\n",
       "</div>"
      ],
      "text/plain": [
       "                   mpg  cylinders  displacement  horsepower    weight  \\\n",
       "mpg           1.000000  -0.777618     -0.805127   -0.778427 -0.832244   \n",
       "cylinders    -0.777618   1.000000      0.950823    0.842983  0.897527   \n",
       "displacement -0.805127   0.950823      1.000000    0.897257  0.932994   \n",
       "horsepower   -0.778427   0.842983      0.897257    1.000000  0.864538   \n",
       "weight       -0.832244   0.897527      0.932994    0.864538  1.000000   \n",
       "acceleration  0.423329  -0.504683     -0.543800   -0.689196 -0.416839   \n",
       "year          0.580541  -0.345647     -0.369855   -0.416361 -0.309120   \n",
       "origin        0.565209  -0.568932     -0.614535   -0.455171 -0.585005   \n",
       "\n",
       "              acceleration      year    origin  \n",
       "mpg               0.423329  0.580541  0.565209  \n",
       "cylinders        -0.504683 -0.345647 -0.568932  \n",
       "displacement     -0.543800 -0.369855 -0.614535  \n",
       "horsepower       -0.689196 -0.416361 -0.455171  \n",
       "weight           -0.416839 -0.309120 -0.585005  \n",
       "acceleration      1.000000  0.290316  0.212746  \n",
       "year              0.290316  1.000000  0.181528  \n",
       "origin            0.212746  0.181528  1.000000  "
      ]
     },
     "execution_count": 4,
     "metadata": {},
     "output_type": "execute_result"
    }
   ],
   "source": [
    "AUTO.drop(columns='name').corr()"
   ]
  },
  {
   "cell_type": "markdown",
   "id": "d5372efc",
   "metadata": {},
   "source": [
    "从相关系数矩阵可以看出，各个随机变量都存在一定的相关性。**year**与**origin**的相关系数绝对值最小，但也为**0.181528**。"
   ]
  },
  {
   "cell_type": "markdown",
   "id": "3bc623e0",
   "metadata": {},
   "source": [
    "**绘制随机变量的经验分布函数ECDF**"
   ]
  },
  {
   "cell_type": "code",
   "execution_count": 5,
   "id": "f9df8597",
   "metadata": {
    "scrolled": false
   },
   "outputs": [
    {
     "data": {
      "image/png": "[encoded data removed]",
      "text/plain": [
       "<Figure size 1200x500 with 8 Axes>"
      ]
     },
     "metadata": {},
     "output_type": "display_data"
    }
   ],
   "source": [
    "import matplotlib.pyplot as plt\n",
    "from statsmodels.distributions.empirical_distribution import ECDF\n",
    "ecdf=[ECDF(AUTO.iloc[:,i]) for i in range(8)] #ECDF函数\n",
    "X=[list(AUTO.iloc[:,i]) for i in range(8)] #自变量值\n",
    "X=[sorted(X[i]) for i in range(8)] #排序后的自变量值\n",
    "Y=[ecdf[i](X[i]) for i in range(8)] \n",
    "plt.figure(figsize=(12,5))\n",
    "for i in range(8):\n",
    "    plt.subplot(3,3,i+1)\n",
    "    plt.title(AUTO.columns[i])\n",
    "    plt.step(X[i],Y[i],label='ECDF')\n",
    "    plt.xlabel(\"X\")\n",
    "    plt.ylabel(\"Y\")\n",
    "    plt.legend()\n",
    "    plt.grid()\n",
    "plt.tight_layout(pad=1.10)\n",
    "plt.show()"
   ]
  },
  {
   "cell_type": "markdown",
   "id": "00c66b97",
   "metadata": {},
   "source": [
    "### 分布函数的拟合检验"
   ]
  },
  {
   "cell_type": "markdown",
   "id": "6bf01a55",
   "metadata": {},
   "source": [
    "&emsp;考虑如下的假设检验问题：$$H_0:F(x)=F_0(x),\\quad H_1:F(x)\\neq F_0(x)$$  \n",
    "其中$F(x)$为总体$\\xi$的分布函数，未知，$F_0(x)$为某已知的分布函数，可以含有未知参数，也可以不含有未知参数。$F_0(x)$一般根据总体的物理意义、样本的经验分布函数、直方图得到启发而确定。当$F_0(x)$为正态分布函数时，常用**正态概率纸法**与**偏度、峰度法**。一般情形，特别是离散分布用**Pearson$\\chi^2$检验法**  \n",
    "&emsp;在这一节，我们先绘制出**直方图**来观察随机变量大致服从什么分布，也就是确定$F_0(x)$的形式，我们希望其是服从正态分布的。再用**偏度、峰度法**、**Pearson$\\chi^2$检验法**等方法去检验我们的假设。"
   ]
  },
  {
   "cell_type": "markdown",
   "id": "eb2c0909",
   "metadata": {},
   "source": [
    "#### 绘制直方图"
   ]
  },
  {
   "cell_type": "markdown",
   "id": "c23ee4db",
   "metadata": {},
   "source": [
    "通过观察数据，可以发现**cylinders、year、origin**服从离散分布。故笔者将样本观察值分成$m$组，$m=1.87(n-1)^{0.4}$，作出除这三个变量以外的随机变量的直方图。"
   ]
  },
  {
   "cell_type": "code",
   "execution_count": 6,
   "id": "85aec0dc",
   "metadata": {
    "scrolled": false
   },
   "outputs": [
    {
     "data": {
      "image/png": "[encoded data removed]",
      "text/plain": [
       "<Figure size 1200x500 with 5 Axes>"
      ]
     },
     "metadata": {},
     "output_type": "display_data"
    }
   ],
   "source": [
    "bins=int((1.87*(n-1)**0.4)//1) #分成bins组\n",
    "plt.figure(figsize=(12,5))\n",
    "plt.subplot(3,2,1)\n",
    "plt.hist(X[0],bins=bins,edgecolor='r',histtype='bar',alpha=0.5)\n",
    "plt.title(AUTO.columns[0])\n",
    "plt.xlabel(\"X\")\n",
    "plt.ylabel(\"Y\")\n",
    "plt.axvline(mean[0],color='orange',ls='--') #设置均线\n",
    "plt.grid()\n",
    "for i in range(4):\n",
    "    plt.subplot(3,2,i+2)\n",
    "    plt.hist(X[i+2],bins=bins,edgecolor='r',histtype='bar',alpha=0.5)\n",
    "    plt.title(AUTO.columns[i+2])\n",
    "    plt.xlabel(\"X\")\n",
    "    plt.ylabel(\"Y\")\n",
    "    plt.axvline(mean[i+2],color='orange',ls='--') #设置均线\n",
    "    plt.grid()\n",
    "plt.tight_layout(pad=1.10)\n",
    "plt.show()"
   ]
  },
  {
   "cell_type": "markdown",
   "id": "0c47bd4a",
   "metadata": {},
   "source": [
    "黄色虚线为均值位置。"
   ]
  },
  {
   "cell_type": "markdown",
   "id": "c23aee63",
   "metadata": {},
   "source": [
    "据直方图和经验分布函数图像，我们可以发现，**acceleration**随机变量大致服从正态分布，其他随机变量我们假设服从其他分布"
   ]
  },
  {
   "cell_type": "markdown",
   "id": "3ada1cc4",
   "metadata": {},
   "source": [
    "#### 分布函数的检验"
   ]
  },
  {
   "cell_type": "markdown",
   "id": "6bdb7597",
   "metadata": {},
   "source": [
    "$\\bullet$**acceleration**"
   ]
  },
  {
   "cell_type": "markdown",
   "id": "cce5a83d",
   "metadata": {},
   "source": [
    "&emsp;我们做出如下假设：$$H_0:F(x)=F_0(x),\\quad H_1:F(x)\\neq F_0(x)$$  \n",
    "&emsp;F(x)是**acceleration**的分布函数，$F_0(x)$为某正态分布函数。"
   ]
  },
  {
   "cell_type": "markdown",
   "id": "d5a7de52",
   "metadata": {},
   "source": [
    "&emsp;**偏度、峰度法检验**"
   ]
  },
  {
   "cell_type": "markdown",
   "id": "516ee358",
   "metadata": {},
   "source": [
    "&emsp;设检验水平$\\alpha=0.05$"
   ]
  },
  {
   "cell_type": "markdown",
   "id": "715e02c1",
   "metadata": {},
   "source": [
    "&emsp;随机变量$\\xi$的偏度与峰度是标准化随机变量$\\frac{\\xi-E(\\xi)}{\\sqrt{D(\\xi)}}$的三阶原点矩与四阶原点矩：\n",
    "$$\\begin{align}\n",
    "\\gamma_1 &= E\\left[\\frac{\\xi-E(\\xi)}{\\sqrt{D(\\xi)}}\\right]^3=\\frac{\\mu_3}{\\sigma^3} \\\\\n",
    "\\gamma_2 &= E\\left[\\frac{\\xi-E(\\xi)}{\\sqrt{D(\\xi)}}\\right]^4=\\frac{\\mu_4}{\\sigma^4}\n",
    "\\end{align}$$"
   ]
  },
  {
   "cell_type": "markdown",
   "id": "69ce000f",
   "metadata": {},
   "source": [
    "&emsp;偏度$\\gamma_1$描述$\\xi$的密度曲线偏斜程度，峰度$\\gamma_2$描述曲线的陡缓程度，$\\mu_3,\\mu_4$分别是$\\xi$的三阶中心矩和四阶中心矩。当$\\xi$服从正态分布$N(\\mu,\\sigma^2)$时，可以计算出$\\gamma_1=0,\\gamma_2=3$.偏度、峰度检验法是检验总体是否服从正态分布的较好方法。"
   ]
  },
  {
   "cell_type": "markdown",
   "id": "ae5092c5",
   "metadata": {},
   "source": [
    "&emsp;当$\\xi$服从正态分布时，可以证明：当n充分大时（$n>100$)，近似地有\n",
    "$$\\begin{align}\n",
    "g_1&\\sim N(0,\\frac{6(n-2)}{(n+1)(n+3)}) \\\\\n",
    "g_2&\\sim N(3-\\frac{6}{n+1},\\frac{24n(n-2)(n-3)}{(n+1)^2(n+3)(n+5)})\n",
    "\\end{align}$$"
   ]
  },
  {
   "cell_type": "markdown",
   "id": "285cd08c",
   "metadata": {},
   "source": [
    "&emsp;记$$\\sigma_1^2=\\frac{6(n-2)}{(n+1)(n+3)},\\quad \\sigma_2^2=\\frac{24n(n-2)(n-3)}{(n+1)^2(n+3)(n+5)}$$"
   ]
  },
  {
   "cell_type": "markdown",
   "id": "424d1507",
   "metadata": {},
   "source": [
    "&emsp;则当$H_0$成立，n充分大时，近似地有\n",
    "$$\\begin{align}\n",
    "U_1&:=\\frac{g_1}{\\sigma_1}\\sim N(0,1) \\\\\n",
    "U_2&:=\\frac{g_2-(3n-3)/(n+1)}{\\sigma_2}\\sim N(0,1)\n",
    "\\end{align}$$"
   ]
  },
  {
   "cell_type": "markdown",
   "id": "1aa1e764",
   "metadata": {},
   "source": [
    "&emsp;故拒绝域应该为$\\left\\{\\lvert U_1\\rvert>k_1 \\quad or\\quad \\lvert U_2\\rvert>k_2\\right\\}$"
   ]
  },
  {
   "cell_type": "markdown",
   "id": "32e7133b",
   "metadata": {},
   "source": [
    "&emsp;取$$\\frac{\\alpha}{2}=P_0\\left\\{\\lvert U_1\\rvert>k_1\\right\\},\\quad \\frac{\\alpha}{2}=P_0\\left\\{\\lvert U_2\\rvert>k_2\\right\\}$$"
   ]
  },
  {
   "cell_type": "markdown",
   "id": "5ea85449",
   "metadata": {},
   "source": [
    "&emsp;则$k_1=k_2=\\mu_{1-\\alpha/4}=2.24$"
   ]
  },
  {
   "cell_type": "markdown",
   "id": "79f39d98",
   "metadata": {},
   "source": [
    "&emsp;所以$H_0$的拒绝域为\n",
    "$$\\left\\{\\lvert U_1\\rvert >\\mu_{1-\\alpha/4}=2.24\\quad or\\quad \\lvert U_2\\rvert >\\mu_{1-\\alpha/4}=2.24\\right\\}$$"
   ]
  },
  {
   "cell_type": "markdown",
   "id": "23953c22",
   "metadata": {},
   "source": [
    "&emsp;我们现在来计算$U_1,U_2$"
   ]
  },
  {
   "cell_type": "code",
   "execution_count": 7,
   "id": "c87e0311",
   "metadata": {},
   "outputs": [
    {
     "name": "stdout",
     "output_type": "stream",
     "text": [
      "U1=2.3658550674329195\n",
      "U2=1.8067033578121374\n"
     ]
    }
   ],
   "source": [
    "import math\n",
    "sigma_1=math.sqrt((6*(n-2))/((n+1)*(n+3)))\n",
    "sigma_2=math.sqrt((24*n*(n-2)*(n-3))/((n+1)**2*(n+3)*(n+5)))\n",
    "U_1=T.loc['skewness','acceleration']/sigma_1\n",
    "U_2=(T.loc['kurtosis','acceleration']-((3*n-3)/(n+1)))/sigma_2\n",
    "print('U1={}'.format(U_1))\n",
    "print('U2={}'.format(U_2))"
   ]
  },
  {
   "cell_type": "markdown",
   "id": "a19fd659",
   "metadata": {},
   "source": [
    "&emsp;故可以认为**acceleration**随机变量服从正态分布。"
   ]
  },
  {
   "cell_type": "markdown",
   "id": "451d09b3",
   "metadata": {},
   "source": [
    "&emsp;而对于**mpg**随机变量，其图像也可近似看作是正态分布。我们用同样的方法来计算其$U_1,U_2$"
   ]
  },
  {
   "cell_type": "code",
   "execution_count": 8,
   "id": "3eb8ec37",
   "metadata": {},
   "outputs": [
    {
     "name": "stdout",
     "output_type": "stream",
     "text": [
      "U1=3.708719744722645\n",
      "U2=-2.098551926855814\n"
     ]
    }
   ],
   "source": [
    "U_1=T.loc['skewness','mpg']/sigma_1\n",
    "U_2=(T.loc['kurtosis','mpg']-((3*n-3)/(n+1)))/sigma_2\n",
    "print('U1={}'.format(U_1))\n",
    "print('U2={}'.format(U_2))"
   ]
  },
  {
   "cell_type": "markdown",
   "id": "2bcfe820",
   "metadata": {},
   "source": [
    "&emsp;可以看到，**mpg**并不服从正态分布，假设被拒绝了。"
   ]
  },
  {
   "cell_type": "markdown",
   "id": "4d8043d8",
   "metadata": {},
   "source": [
    "---"
   ]
  },
  {
   "cell_type": "markdown",
   "id": "092bd03f",
   "metadata": {},
   "source": [
    "$\\bullet$**origin**"
   ]
  },
  {
   "cell_type": "markdown",
   "id": "f4fc3b73",
   "metadata": {},
   "source": [
    "对于**origin**随机变量，其服从离散分布，取值为1，2，3。样本均值为1.576531，样本方差为0.647204。对于离散分布，我们直接假设其取各个值的概率即可。"
   ]
  },
  {
   "cell_type": "markdown",
   "id": "2990dc16",
   "metadata": {},
   "source": [
    "设取到1，2，3的概率分别为$p,q,1-p-q$。\n",
    "我们可以作出如下假设:  \n",
    "\n",
    "$$\\begin{align}\n",
    "H_0&:F(x)=F_0(x)\\\\\n",
    "\\\\\n",
    "F_0(x)&=\n",
    "\\begin{pmatrix}\n",
    "1 & 2 & 3 \\\\\n",
    "p & q & 1-p-q\n",
    "\\end{pmatrix}\n",
    "\\end{align}$$"
   ]
  },
  {
   "cell_type": "markdown",
   "id": "e292c650",
   "metadata": {},
   "source": [
    "参数为$p,q$，用极大似然估计量$\\hat{p},\\hat{q}$来估计。\n"
   ]
  },
  {
   "cell_type": "markdown",
   "id": "bc08ac8d",
   "metadata": {},
   "source": [
    "极大似然函数：\n",
    "$$L(x,p,q)=p^{n_1}q^{n_2}(1-p-q)^{n_3}$$  \n",
    "$n_1,n_2,n_3$分别为样本内取得1，2，3的次数。"
   ]
  },
  {
   "cell_type": "markdown",
   "id": "54447105",
   "metadata": {},
   "source": [
    "求得：\n",
    "$$\\hat{p}=\\frac{n_1}{n} \\quad \\hat{q}=\\frac{n_2}{n}$$"
   ]
  },
  {
   "cell_type": "markdown",
   "id": "5afeb4fa",
   "metadata": {},
   "source": [
    "我们来计算一下$p,q$。"
   ]
  },
  {
   "cell_type": "code",
   "execution_count": 9,
   "id": "63999d39",
   "metadata": {
    "scrolled": true
   },
   "outputs": [
    {
     "name": "stdout",
     "output_type": "stream",
     "text": [
      "p=0.625\n",
      "q=0.17346938775510204\n"
     ]
    }
   ],
   "source": [
    "n1=(AUTO.loc[:,'origin']==1).sum()\n",
    "n2=(AUTO.loc[:,'origin']==2).sum()\n",
    "p=n1/n\n",
    "q=n2/n\n",
    "print('p={}'.format(p))\n",
    "print('q={}'.format(q))"
   ]
  },
  {
   "cell_type": "markdown",
   "id": "bd389410",
   "metadata": {},
   "source": [
    "---"
   ]
  },
  {
   "cell_type": "markdown",
   "id": "a3abea74",
   "metadata": {},
   "source": [
    "$\\bullet$**cylinders**"
   ]
  },
  {
   "cell_type": "markdown",
   "id": "851b08ed",
   "metadata": {},
   "source": [
    "**cylinders**随机变量同**origin**,都是离散分布，取值为3，4，5，6，8。作出如下假设：  \n",
    "\n",
    "$$\\begin{align}\n",
    "H_0:&F(x)=F_0(x)\\\\\n",
    "\\\\\n",
    "F_0(x)&=\n",
    "\\begin{pmatrix}\n",
    "3 & 4 & 5 & 6 & 8  \\\\\n",
    "p_1 & p_2 & p_3 & p_4 & 1-p_1-p_2-p_3-p_4\n",
    "\\end{pmatrix}\n",
    "\\end{align}$$"
   ]
  },
  {
   "cell_type": "markdown",
   "id": "307e72ff",
   "metadata": {},
   "source": [
    "同样的，我们有：  \n",
    "\n",
    "$$\\begin{align}\n",
    "p_1 &= \\frac{n_1}{n}\\\\\n",
    "\\\\\n",
    "p_2 &= \\frac{n_2}{n}\\\\\n",
    "\\\\\n",
    "p_3 &= \\frac{n_3}{n}\\\\\n",
    "\\\\\n",
    "p_4 &= \\frac{n_4}{n}\n",
    "\\end{align}$$\n",
    "\n"
   ]
  },
  {
   "cell_type": "markdown",
   "id": "c73982f9",
   "metadata": {},
   "source": [
    "计算$p_1,p_2,p_3,p_4$:"
   ]
  },
  {
   "cell_type": "code",
   "execution_count": 10,
   "id": "907494c7",
   "metadata": {},
   "outputs": [
    {
     "name": "stdout",
     "output_type": "stream",
     "text": [
      "p1=0.01020408163265306\n",
      "p2=0.5076530612244898\n",
      "p3=0.007653061224489796\n",
      "p4=0.21173469387755103\n"
     ]
    }
   ],
   "source": [
    "n1=(AUTO.loc[:,'cylinders']==3).sum()\n",
    "n2=(AUTO.loc[:,'cylinders']==4).sum()\n",
    "n3=(AUTO.loc[:,'cylinders']==5).sum()\n",
    "n4=(AUTO.loc[:,'cylinders']==6).sum()\n",
    "p1=n1/n\n",
    "p2=n2/n\n",
    "p3=n3/n\n",
    "p4=n4/n\n",
    "print('p1={}'.format(p1))\n",
    "print('p2={}'.format(p2))\n",
    "print('p3={}'.format(p3))\n",
    "print('p4={}'.format(p4))"
   ]
  },
  {
   "cell_type": "markdown",
   "id": "e7653bb9",
   "metadata": {},
   "source": [
    "---"
   ]
  },
  {
   "cell_type": "markdown",
   "id": "fc4170e0",
   "metadata": {},
   "source": [
    "我们知道，如果有$\\xi \\sim \\chi^2(n)$,则有$$E(\\xi)=n，\\quad D(\\xi)=2n$$"
   ]
  },
  {
   "cell_type": "markdown",
   "id": "c3be3ef4",
   "metadata": {},
   "source": [
    "即随机变量的方差应该是期望的两倍。"
   ]
  },
  {
   "cell_type": "markdown",
   "id": "0409f15a",
   "metadata": {},
   "source": [
    "比较剩下的随机变量的样本均值和方差，可以发现都不符合这个性质，故不服从$\\chi^2$分布。  \n",
    "所以我们假设："
   ]
  },
  {
   "cell_type": "markdown",
   "id": "bfdb359e",
   "metadata": {},
   "source": [
    "$$H_0:F(x)=F_0(x),\\quad H_1:F(x)\\neq F_0(x)$$"
   ]
  },
  {
   "cell_type": "markdown",
   "id": "313126c5",
   "metadata": {},
   "source": [
    "$F_0(x)\\sim \\Gamma(a,\\lambda),a,\\lambda$是未知参数。"
   ]
  },
  {
   "cell_type": "markdown",
   "id": "57269004",
   "metadata": {},
   "source": [
    "---"
   ]
  },
  {
   "cell_type": "markdown",
   "id": "ba544812",
   "metadata": {},
   "source": [
    "$\\bullet$**weight**"
   ]
  },
  {
   "cell_type": "markdown",
   "id": "1a0fe3b6",
   "metadata": {},
   "source": [
    "**Pearson$\\chi^2$检验法**"
   ]
  },
  {
   "cell_type": "markdown",
   "id": "55bdf8f1",
   "metadata": {},
   "source": [
    "设检验水平$\\alpha=0.05$"
   ]
  },
  {
   "cell_type": "markdown",
   "id": "a75c08b9",
   "metadata": {},
   "source": [
    "这一方法的基本思想是：将样本观察值$x_1,x_2,\\cdots,x_n$分为$m$组，m同上。以$v_i,\\frac{v_i}{n}$分别表示样本观察值落入第$i$个小区间$\\left[t_{i-1}-t_{i}\\right)$的频数和频率。如果$H_0$为真,由给定的分布函数$F_0(x)$,计算得\n",
    "$$p_i:=P_0\\left\\{t_{i-1}\\leq \\xi<t_i\\right\\}=F_0(t_i)-F_0(t_{i-1}),\\quad i=1,2,\\cdots,m $$  \n",
    "称$np_i$为样本落入第$i$个小区间的理论频数。$H_0$成立时，理论频数$np_i$应该与实际频数$v_i$很接近，从而\n",
    "$$\\sum_{i=1}^{m}{\\frac{(v_i-np_i)^2}{np_i}}$$  \n",
    "应该较小。记此和式为$\\chi_n^2$,可化简得：\n",
    "$$\\chi_n^2=\\sum_{i=1}^{m}{\\frac{v_i^2}{np_i}}-n$$  \n",
    "应很小，否则不能认为$H_0$成立,所以$H_0$的拒绝域应为$\\left\\{\\chi_n^2>C\\right\\}$。"
   ]
  },
  {
   "cell_type": "markdown",
   "id": "427b73c3",
   "metadata": {},
   "source": [
    "可以证明:\n",
    "$$\\chi_n^2\\xrightarrow{L}\\eta \\sim \\chi^2(m-1)$$"
   ]
  },
  {
   "cell_type": "markdown",
   "id": "deabe7e7",
   "metadata": {},
   "source": [
    "如果$F_0(x)$中含有$l$个未知参数，则首先用这$l$个未知参数的极大似然估计值代替原参数，然后计算$p_i$,再建立$\\chi_n^2$,但是这时：\n",
    "$$\\chi_n^2\\xrightarrow{L}\\eta \\sim \\chi^2(m-1-l)$$"
   ]
  },
  {
   "cell_type": "markdown",
   "id": "d7831ed2",
   "metadata": {},
   "source": [
    "由此知，$H_0$成立且$n$充分大时，近似地有$\\chi_n^2\\sim\\chi^2(m-1-l)。$"
   ]
  },
  {
   "cell_type": "markdown",
   "id": "400a7727",
   "metadata": {},
   "source": [
    "从而$H_0$的拒绝域为：\n",
    "$$\\left\\{\\sum_{i=1}^{m}{\\frac{v_i^2}{np_i}}-n>\\chi_{1-\\alpha}^2(m-1-l)\\right\\}$$"
   ]
  },
  {
   "cell_type": "markdown",
   "id": "5ee51d73",
   "metadata": {},
   "source": [
    "---"
   ]
  },
  {
   "cell_type": "markdown",
   "id": "28a9f603",
   "metadata": {},
   "source": [
    "现在我们来应用这个方法"
   ]
  },
  {
   "cell_type": "markdown",
   "id": "d2d12144",
   "metadata": {},
   "source": [
    "先求$a,\\lambda$的极大似然估计量$\\hat{a},\\hat{\\lambda}$"
   ]
  },
  {
   "cell_type": "markdown",
   "id": "854767df",
   "metadata": {},
   "source": [
    "**Gamma分布**的似然函数：\n",
    "$$L(x,a,\\lambda)=\\frac{\\lambda^{na}}{\\Gamma(a)^n}(\\prod_{i=1}^{n}{x_i^{a-1}})exp(-\\lambda \\sum_{i=1}^{n}{x_i})$$"
   ]
  },
  {
   "cell_type": "markdown",
   "id": "665528fc",
   "metadata": {},
   "source": [
    "对上式取$log$求偏导置零，则可得到满足极大似然估计的方程：  \n",
    "\n",
    "$$\\begin{align}\n",
    "\\frac{\\partial logL}{\\partial a}&=\\frac{na}{\\lambda}-\\sum_{i=1}^{n}{x_i}=0\\\\\n",
    "\\frac{\\partial logL}{\\partial \\lambda}&=nlog(\\lambda)+\\sum_{i=1}^{n}{log(x_i)}-n\\psi(a)=0\n",
    "\\end{align}$$"
   ]
  },
  {
   "cell_type": "markdown",
   "id": "af03920d",
   "metadata": {},
   "source": [
    "其中，$$\\psi(a)=\\frac{1}{\\Gamma(a)}\\frac{d\\Gamma(a)}{da}$$"
   ]
  },
  {
   "cell_type": "markdown",
   "id": "4ba87050",
   "metadata": {},
   "source": [
    "因此没有解析解，故我们采用数值解法："
   ]
  },
  {
   "cell_type": "markdown",
   "id": "5b3b5c2f",
   "metadata": {},
   "source": [
    "用python的**minimize**函数求解对数似然函数的最大值。因伽马分布的期望E和方差D分别为$\\frac{a}{\\lambda},\\frac{a}{\\lambda^2}$,故选取$a_0=\\frac{E^2}{D},\\lambda_0=\\frac{E}{D}$作为优化算法的初始值进行迭代。"
   ]
  },
  {
   "cell_type": "code",
   "execution_count": 11,
   "id": "c6777205",
   "metadata": {
    "scrolled": true
   },
   "outputs": [
    {
     "name": "stdout",
     "output_type": "stream",
     "text": [
      "a0=12.319987757285203\n",
      "lambda0=0.0041375783176299434\n",
      "a=12.672686485557952\n",
      "lambda=0.004256024369248969\n"
     ]
    }
   ],
   "source": [
    "from scipy.special import gamma\n",
    "from scipy.optimize import minimize\n",
    "#定义对数似然函数\n",
    "def MLE(params,x):\n",
    "    a,b=params\n",
    "    return -n*np.log(gamma(a))+n * a * np.log(b)+(a - 1)*np.sum(np.log(x))-b*np.sum(x)\n",
    "weight=np.array(AUTO.loc[:,'weight'])\n",
    "initialweight=(T.loc['mean','weight']**2/T.loc['var','weight'],T.loc['mean','weight']/T.loc['var','weight']) #选取初始值\n",
    "print('a0={}'.format(initialweight[0]))\n",
    "print('lambda0={}'.format(initialweight[1]))\n",
    "resweight=minimize(lambda params:-MLE(params,weight),initialweight,method=\"TNC\") #求最值\n",
    "print('a={}'.format(resweight.x[0]))\n",
    "print('lambda={}'.format(resweight.x[1]))\n",
    "aweight=resweight.x[0]\n",
    "lambdaweight=resweight.x[1]"
   ]
  },
  {
   "cell_type": "markdown",
   "id": "9ca0aa7b",
   "metadata": {},
   "source": [
    "经过计算：\n",
    "$$\\hat{a}=12.672686485557952,\\quad \\hat{\\lambda}=0.004256024369248969$$"
   ]
  },
  {
   "cell_type": "markdown",
   "id": "7fb66f7a",
   "metadata": {},
   "source": [
    "现在来计算$v_i,p_i$:"
   ]
  },
  {
   "cell_type": "code",
   "execution_count": 12,
   "id": "290b4857",
   "metadata": {
    "scrolled": true
   },
   "outputs": [
    {
     "name": "stdout",
     "output_type": "stream",
     "text": [
      "histweight=[ 5 25 44 45 24 34 24 28 16 20 23 17 17 12 17 17  8 10  4  2]\n",
      "edgeweight=[1613.   1789.35 1965.7  2142.05 2318.4  2494.75 2671.1  2847.45 3023.8\n",
      " 3200.15 3376.5  3552.85 3729.2  3905.55 4081.9  4258.25 4434.6  4610.95\n",
      " 4787.3  4963.65 5140.  ]\n"
     ]
    }
   ],
   "source": [
    "import numpy as np\n",
    "# 使用numpy.histogram函数将数据分成20个小区间\n",
    "histweight,edgeweight=np.histogram(np.array(AUTO.loc[:,'weight']),bins=20) #hist为每个区间数据个数，edge为区间端点\n",
    "print('histweight={}'.format(histweight))\n",
    "print('edgeweight={}'.format(edgeweight))"
   ]
  },
  {
   "cell_type": "code",
   "execution_count": 13,
   "id": "3d4f0306",
   "metadata": {},
   "outputs": [],
   "source": [
    "from scipy.stats import gamma #gamma.cdf计算在每一个区间的概率\n",
    "p_weight=[gamma.cdf(edgeweight[i+1],resweight.x[0],scale=1/resweight.x[1])-\n",
    "          gamma.cdf(edgeweight[i],resweight.x[0],scale=1/resweight.x[1]) for i in range(20)]\n",
    "np_weight=n*np.array(p_weight) #计算理论频数"
   ]
  },
  {
   "cell_type": "code",
   "execution_count": 14,
   "id": "2540aa41",
   "metadata": {
    "scrolled": false
   },
   "outputs": [
    {
     "data": {
      "text/html": [
       "<div>\n",
       "<style scoped>\n",
       "    .dataframe tbody tr th:only-of-type {\n",
       "        vertical-align: middle;\n",
       "    }\n",
       "\n",
       "    .dataframe tbody tr th {\n",
       "        vertical-align: top;\n",
       "    }\n",
       "\n",
       "    .dataframe thead tr th {\n",
       "        text-align: left;\n",
       "    }\n",
       "</style>\n",
       "<table border=\"1\" class=\"dataframe\">\n",
       "  <thead>\n",
       "    <tr>\n",
       "      <th></th>\n",
       "      <th colspan=\"2\" halign=\"left\">weight</th>\n",
       "    </tr>\n",
       "    <tr>\n",
       "      <th></th>\n",
       "      <th>实际频数</th>\n",
       "      <th>理论频数</th>\n",
       "    </tr>\n",
       "  </thead>\n",
       "  <tbody>\n",
       "    <tr>\n",
       "      <th>0</th>\n",
       "      <td>5</td>\n",
       "      <td>10.921850</td>\n",
       "    </tr>\n",
       "    <tr>\n",
       "      <th>1</th>\n",
       "      <td>25</td>\n",
       "      <td>16.259749</td>\n",
       "    </tr>\n",
       "    <tr>\n",
       "      <th>2</th>\n",
       "      <td>44</td>\n",
       "      <td>21.854604</td>\n",
       "    </tr>\n",
       "    <tr>\n",
       "      <th>3</th>\n",
       "      <td>45</td>\n",
       "      <td>26.964885</td>\n",
       "    </tr>\n",
       "    <tr>\n",
       "      <th>4</th>\n",
       "      <td>24</td>\n",
       "      <td>30.936883</td>\n",
       "    </tr>\n",
       "    <tr>\n",
       "      <th>5</th>\n",
       "      <td>34</td>\n",
       "      <td>33.342829</td>\n",
       "    </tr>\n",
       "    <tr>\n",
       "      <th>6</th>\n",
       "      <td>24</td>\n",
       "      <td>34.035764</td>\n",
       "    </tr>\n",
       "    <tr>\n",
       "      <th>7</th>\n",
       "      <td>28</td>\n",
       "      <td>33.126857</td>\n",
       "    </tr>\n",
       "    <tr>\n",
       "      <th>8</th>\n",
       "      <td>16</td>\n",
       "      <td>30.912728</td>\n",
       "    </tr>\n",
       "    <tr>\n",
       "      <th>9</th>\n",
       "      <td>20</td>\n",
       "      <td>27.785198</td>\n",
       "    </tr>\n",
       "    <tr>\n",
       "      <th>10</th>\n",
       "      <td>23</td>\n",
       "      <td>24.149216</td>\n",
       "    </tr>\n",
       "    <tr>\n",
       "      <th>11</th>\n",
       "      <td>17</td>\n",
       "      <td>20.363356</td>\n",
       "    </tr>\n",
       "    <tr>\n",
       "      <th>12</th>\n",
       "      <td>17</td>\n",
       "      <td>16.706756</td>\n",
       "    </tr>\n",
       "    <tr>\n",
       "      <th>13</th>\n",
       "      <td>12</td>\n",
       "      <td>13.369149</td>\n",
       "    </tr>\n",
       "    <tr>\n",
       "      <th>14</th>\n",
       "      <td>17</td>\n",
       "      <td>10.457267</td>\n",
       "    </tr>\n",
       "    <tr>\n",
       "      <th>15</th>\n",
       "      <td>17</td>\n",
       "      <td>8.010393</td>\n",
       "    </tr>\n",
       "    <tr>\n",
       "      <th>16</th>\n",
       "      <td>8</td>\n",
       "      <td>6.019101</td>\n",
       "    </tr>\n",
       "    <tr>\n",
       "      <th>17</th>\n",
       "      <td>10</td>\n",
       "      <td>4.443140</td>\n",
       "    </tr>\n",
       "    <tr>\n",
       "      <th>18</th>\n",
       "      <td>4</td>\n",
       "      <td>3.226243</td>\n",
       "    </tr>\n",
       "    <tr>\n",
       "      <th>19</th>\n",
       "      <td>2</td>\n",
       "      <td>2.307069</td>\n",
       "    </tr>\n",
       "  </tbody>\n",
       "</table>\n",
       "</div>"
      ],
      "text/plain": [
       "   weight           \n",
       "     实际频数       理论频数\n",
       "0       5  10.921850\n",
       "1      25  16.259749\n",
       "2      44  21.854604\n",
       "3      45  26.964885\n",
       "4      24  30.936883\n",
       "5      34  33.342829\n",
       "6      24  34.035764\n",
       "7      28  33.126857\n",
       "8      16  30.912728\n",
       "9      20  27.785198\n",
       "10     23  24.149216\n",
       "11     17  20.363356\n",
       "12     17  16.706756\n",
       "13     12  13.369149\n",
       "14     17  10.457267\n",
       "15     17   8.010393\n",
       "16      8   6.019101\n",
       "17     10   4.443140\n",
       "18      4   3.226243\n",
       "19      2   2.307069"
      ]
     },
     "execution_count": 14,
     "metadata": {},
     "output_type": "execute_result"
    }
   ],
   "source": [
    "weight_frame=pd.DataFrame({('weight','实际频数'):histweight,('weight','理论频数'):np_weight})\n",
    "weight_frame"
   ]
  },
  {
   "cell_type": "markdown",
   "id": "be130231",
   "metadata": {},
   "source": [
    "现在来计算$\\chi_n^2$:\n"
   ]
  },
  {
   "cell_type": "code",
   "execution_count": 15,
   "id": "01582128",
   "metadata": {},
   "outputs": [
    {
     "name": "stdout",
     "output_type": "stream",
     "text": [
      "weight卡方统计量=96.68082929282576\n"
     ]
    }
   ],
   "source": [
    "chi_weight=np.sum(histweight**2/np_weight)-n\n",
    "print('weight卡方统计量={}'.format(chi_weight))"
   ]
  },
  {
   "cell_type": "markdown",
   "id": "29de426f",
   "metadata": {},
   "source": [
    "而拒绝域为：\n",
    "$$\\left\\{\\sum_{i=1}^{20}{\\frac{v_i^2}{np_i}}-n>\\chi_{1-\\alpha}^2(17)=27.587\\right\\}$$"
   ]
  },
  {
   "cell_type": "markdown",
   "id": "eb43cf01",
   "metadata": {},
   "source": [
    "故假设被拒绝。即**weight**不服从伽马分布。"
   ]
  },
  {
   "cell_type": "markdown",
   "id": "e89e8b54",
   "metadata": {},
   "source": [
    "**科尔莫戈罗夫检验（$D_n$检验）**"
   ]
  },
  {
   "cell_type": "markdown",
   "id": "ff1564cc",
   "metadata": {},
   "source": [
    "设检验水平$\\alpha=0.05$"
   ]
  },
  {
   "cell_type": "markdown",
   "id": "06695406",
   "metadata": {},
   "source": [
    "$\\chi^2$检验依赖于区间的划分，即使原假设不成立，仍可能有：  \n",
    "\n",
    "$$p_i=F_0(y_i)-F_0(y_{i-1})=F(y_i)-F(y_{i-1}),i=1,2,\\cdots,m$$  \n",
    "即有可能接受不真的原假设$H_0$。科尔莫戈罗夫检验克服了$\\chi^2$检验的这一缺点，但他要求总体分布必须连续，且要求原假设的分布中一般不含有未知参数。（但对大样本，正态分布，指数分布可以例外）。这里，$n=392$，故我们可以用科尔莫戈罗夫检验。"
   ]
  },
  {
   "cell_type": "markdown",
   "id": "a465a0de",
   "metadata": {},
   "source": [
    "由格列文斜定理知：\n",
    "$$D_n:=\\mathop{sup}\\limits_{-\\infty<x<+\\infty}\\left|F_n^{*}(x)-F(x)\\right|\\xrightarrow{a.s.}0\\quad(n\\rightarrow\\infty)$$"
   ]
  },
  {
   "cell_type": "markdown",
   "id": "792cf509",
   "metadata": {},
   "source": [
    "所以$F_n^{*}$是$F$的一个良好估计。"
   ]
  },
  {
   "cell_type": "markdown",
   "id": "c4e046b5",
   "metadata": {},
   "source": [
    "当$H_0$不成立时，$D_n$有偏大的趋势。因此，$H_0$的拒绝域为：\n",
    "$$\\left\\{D_n>D_{n,1-\\alpha}\\right\\}$$"
   ]
  },
  {
   "cell_type": "markdown",
   "id": "a5d67523",
   "metadata": {},
   "source": [
    "$n>100$时：\n",
    "$$ D_{n,0.95}\\approx \\frac{1.36}{\\sqrt{n}}$$"
   ]
  },
  {
   "cell_type": "markdown",
   "id": "f8a6923e",
   "metadata": {},
   "source": [
    "现在来计算$D_n$及$D_{n,0.95}$:"
   ]
  },
  {
   "cell_type": "code",
   "execution_count": 16,
   "id": "9bb140d5",
   "metadata": {},
   "outputs": [
    {
     "name": "stdout",
     "output_type": "stream",
     "text": [
      "Dn=0.08750872199085552\n",
      "Dn0.95分位数=0.06869037302955033\n"
     ]
    }
   ],
   "source": [
    "dn1=max(abs(ecdf[4](X[4])-gamma.cdf(X[4],resweight.x[0],scale=1/resweight.x[1])))\n",
    "dn2=max(abs(ecdf[4](X[4][1:])-gamma.cdf(X[4][:-1],resweight.x[0],scale=1/resweight.x[1])))\n",
    "Dn=max(dn1,dn2,1-gamma.cdf(X[4][-1],resweight.x[0],scale=1/resweight.x[1]))\n",
    "print('Dn={}'.format(Dn))\n",
    "print('Dn0.95分位数={}'.format(1.36/np.sqrt(n)))"
   ]
  },
  {
   "cell_type": "markdown",
   "id": "c57b1fd6",
   "metadata": {},
   "source": [
    "故假设被拒绝，与$\\chi^2$检验得到了一样的结果。即**weight**不服从伽马分布。  \n",
    "同样的方法可以检验，**weight**也不服从F分布。"
   ]
  },
  {
   "cell_type": "markdown",
   "id": "28255c1c",
   "metadata": {},
   "source": [
    "---"
   ]
  },
  {
   "cell_type": "markdown",
   "id": "d56f149a",
   "metadata": {},
   "source": [
    "$\\bullet$**horsepower,mpg,displacement**"
   ]
  },
  {
   "cell_type": "markdown",
   "id": "671ffa5a",
   "metadata": {},
   "source": [
    "对这三个随机变量同样用$\\chi^2$检验,假设其为伽马分布。结果如下："
   ]
  },
  {
   "cell_type": "markdown",
   "id": "6377ce80",
   "metadata": {},
   "source": [
    "$$\\begin{align}\n",
    "\\chi_h^2&=135.316\\\\\n",
    "\\\\\n",
    "\\chi_m^2&=52.661\\\\\n",
    "\\\\\n",
    "\\chi_d^2&=388.396\n",
    "\\end{align}$$  \n",
    "故都不服从伽马分布。  \n",
    "代码如下："
   ]
  },
  {
   "cell_type": "code",
   "execution_count": 17,
   "id": "a2e51681",
   "metadata": {},
   "outputs": [
    {
     "name": "stdout",
     "output_type": "stream",
     "text": [
      "a0=7.385253567786332\n",
      "lambda0=0.07069299176040833\n",
      "a=8.364887875240582\n",
      "lambda=0.08007019893901353\n",
      "histhorsepower=[13 14 55 40 67 53 34 10  8 11 18 29  7  6 10  4  3  2  4  4]\n",
      "edgehorsepower=[ 46.   55.2  64.4  73.6  82.8  92.  101.2 110.4 119.6 128.8 138.  147.2\n",
      " 156.4 165.6 174.8 184.  193.2 202.4 211.6 220.8 230. ]\n",
      "horsepower卡方统计量=135.31649298477066\n"
     ]
    }
   ],
   "source": [
    "from scipy.special import gamma\n",
    "from scipy.optimize import minimize\n",
    "horsepower=np.array(AUTO.loc[:,'horsepower'])\n",
    "#选取初始值\n",
    "initialhorsepower=(T.loc['mean','horsepower']**2/T.loc['var','horsepower'],T.loc['mean','horsepower']/T.loc['var','horsepower']) \n",
    "print('a0={}'.format(initialhorsepower[0]))\n",
    "print('lambda0={}'.format(initialhorsepower[1]))\n",
    "reshorsepower=minimize(lambda params:-MLE(params,horsepower),initialhorsepower,method=\"TNC\")\n",
    "print('a={}'.format(reshorsepower.x[0]))\n",
    "print('lambda={}'.format(reshorsepower.x[1]))\n",
    "ahorsepower=reshorsepower.x[0]\n",
    "lambdahorsepower=reshorsepower.x[1]\n",
    "histhorsepower,edgehorsepower=np.histogram(np.array(AUTO.loc[:,'horsepower']),bins=20) #hist为每个区间数据个数，edge为区间端点\n",
    "print('histhorsepower={}'.format(histhorsepower))\n",
    "print('edgehorsepower={}'.format(edgehorsepower))\n",
    "from scipy.stats import gamma \n",
    "p_horsepower=[gamma.cdf(edgehorsepower[i+1],reshorsepower.x[0],scale=1/reshorsepower.x[1])-\n",
    "              gamma.cdf(edgehorsepower[i],reshorsepower.x[0],scale=1/reshorsepower.x[1]) for i in range(20)]\n",
    "np_horsepower=n*np.array(p_horsepower) #计算理论频数\n",
    "horsepower_frame=pd.DataFrame({('horsepower','实际频数'):histhorsepower,('horsepower','理论频数'):np_horsepower})\n",
    "horsepower_frame\n",
    "chi_horsepower=np.sum(histhorsepower**2/np_horsepower)-n\n",
    "print('horsepower卡方统计量={}'.format(chi_horsepower))"
   ]
  },
  {
   "cell_type": "code",
   "execution_count": 18,
   "id": "ec249410",
   "metadata": {},
   "outputs": [
    {
     "name": "stdout",
     "output_type": "stream",
     "text": [
      "a0=9.046845191319964\n",
      "lambda0=0.3858601335027882\n",
      "a=9.031271323595213\n",
      "lambda=0.38519212411099585\n",
      "histmpg=[ 3 10 40 38 36 37 29 29 20 33 24 24 20 17 13  9  3  1  5  1]\n",
      "edgempg=[ 9.   10.88 12.76 14.64 16.52 18.4  20.28 22.16 24.04 25.92 27.8  29.68\n",
      " 31.56 33.44 35.32 37.2  39.08 40.96 42.84 44.72 46.6 ]\n",
      "mpg卡方统计量=52.66137710752872\n"
     ]
    }
   ],
   "source": [
    "from scipy.special import gamma\n",
    "from scipy.optimize import minimize\n",
    "mpg=np.array(AUTO.loc[:,'mpg'])\n",
    "initialmpg=(T.loc['mean','mpg']**2/T.loc['var','mpg'],T.loc['mean','mpg']/T.loc['var','mpg']) #选取初始值\n",
    "print('a0={}'.format(initialmpg[0]))\n",
    "print('lambda0={}'.format(initialmpg[1]))\n",
    "resmpg=minimize(lambda params:-MLE(params,mpg),initialmpg,method=\"TNC\")\n",
    "print('a={}'.format(resmpg.x[0]))\n",
    "print('lambda={}'.format(resmpg.x[1]))\n",
    "ampg=resmpg.x[0]\n",
    "lambdampg=resmpg.x[1]\n",
    "\n",
    "histmpg,edgempg=np.histogram(np.array(AUTO.loc[:,'mpg']),bins=20) #hist为每个区间数据个数，edge为区间端点\n",
    "print('histmpg={}'.format(histmpg))\n",
    "print('edgempg={}'.format(edgempg))\n",
    "\n",
    "from scipy.stats import gamma \n",
    "p_mpg=[gamma.cdf(edgempg[i+1],resmpg.x[0],scale=1/resmpg.x[1])-gamma.cdf(edgempg[i],resmpg.x[0],scale=1/resmpg.x[1]) for i in range(20)]\n",
    "np_mpg=n*np.array(p_mpg) #计算理论频数\n",
    "\n",
    "mpg_frame=pd.DataFrame({('mpg','实际频数'):histmpg,('mpg','理论频数'):np_mpg})\n",
    "mpg_frame\n",
    "\n",
    "chi_mpg=np.sum(histmpg**2/np_mpg)-n\n",
    "print('mpg卡方统计量={}'.format(chi_mpg))"
   ]
  },
  {
   "cell_type": "code",
   "execution_count": 19,
   "id": "a87b98c5",
   "metadata": {
    "scrolled": true
   },
   "outputs": [
    {
     "name": "stdout",
     "output_type": "stream",
     "text": [
      "a0=3.460403187982223\n",
      "lambda0=0.017799330131926222\n",
      "a=3.6772734770594084\n",
      "lambda=0.01891484852169219\n",
      "histdisplacement=[29 75 58 30 21  9 12  0 32 25  3  0 42  0 27  4  3 13  3  6]\n",
      "edgedisplacement=[ 68.    87.35 106.7  126.05 145.4  164.75 184.1  203.45 222.8  242.15\n",
      " 261.5  280.85 300.2  319.55 338.9  358.25 377.6  396.95 416.3  435.65\n",
      " 455.  ]\n",
      "displacement卡方统计量=388.3961233587187\n"
     ]
    }
   ],
   "source": [
    "from scipy.special import gamma\n",
    "from scipy.optimize import minimize\n",
    "displacement=np.array(AUTO.loc[:,'displacement'])\n",
    "#选取初始值\n",
    "initialdisplacement=(T.loc['mean','displacement']**2/T.loc['var','displacement'],\n",
    "                     T.loc['mean','displacement']/T.loc['var','displacement']) \n",
    "print('a0={}'.format(initialdisplacement[0]))\n",
    "print('lambda0={}'.format(initialdisplacement[1]))\n",
    "resdisplacement=minimize(lambda params:-MLE(params,displacement),initialdisplacement,method=\"TNC\")\n",
    "print('a={}'.format(resdisplacement.x[0]))\n",
    "print('lambda={}'.format(resdisplacement.x[1]))\n",
    "adisplacement=resdisplacement.x[0]\n",
    "lambdadisplacement=resdisplacement.x[1]\n",
    "\n",
    "histdisplacement,edgedisplacement=np.histogram(np.array(AUTO.loc[:,'displacement']),bins=20) #hist为每个区间数据个数，edge为区间端点\n",
    "print('histdisplacement={}'.format(histdisplacement))\n",
    "print('edgedisplacement={}'.format(edgedisplacement))\n",
    "\n",
    "from scipy.stats import gamma \n",
    "p_displacement=[gamma.cdf(edgedisplacement[i+1],resdisplacement.x[0],scale=1/resdisplacement.x[1])-\n",
    "                gamma.cdf(edgedisplacement[i],resdisplacement.x[0],scale=1/resdisplacement.x[1]) for i in range(20)]\n",
    "np_displacement=n*np.array(p_displacement) #计算理论频数\n",
    "\n",
    "displacement_frame=pd.DataFrame({('displacement','实际频数'):histmpg,('displacement','理论频数'):np_displacement})\n",
    "displacement_frame\n",
    "\n",
    "chi_displacement=np.sum(histdisplacement**2/np_displacement)-n\n",
    "print('displacement卡方统计量={}'.format(chi_displacement))"
   ]
  },
  {
   "cell_type": "markdown",
   "id": "ae33f48e",
   "metadata": {},
   "source": [
    "### 参数估计"
   ]
  },
  {
   "cell_type": "markdown",
   "id": "e7bc06ac",
   "metadata": {},
   "source": [
    "据分布估计，**origin,cylinders**服从离散分布，我们用MLE得到了参数的估计。**acceleration**服从正态分布，其余随机变量我们并不知道它们的具体分布形式。故在这一节，我们通过**acceleration**来展示参数估计的方法。 \n",
    "  \n",
    "  \n",
    "设**acceleration**$\\sim N(\\mu,\\sigma^2)$,结果保留一位小数。"
   ]
  },
  {
   "cell_type": "markdown",
   "id": "941390ff",
   "metadata": {},
   "source": [
    "#### 矩法"
   ]
  },
  {
   "cell_type": "markdown",
   "id": "d37cba7d",
   "metadata": {},
   "source": [
    "由辛钦大数定律和科尔莫戈罗夫大数定理知，如果总体$\\xi$的$t$阶原点矩$E(\\xi^t)$存在，则样本的$t$阶原点矩$A_t=\\frac{1}{n}\\sum_{i=1}^{n}{\\xi_i^t}\\xrightarrow{a.s.}E(\\xi^t)$,且$E(A_t)=E(\\xi^t)$。即可以用$A_k$作为$E(\\xi^k)$的估计量。"
   ]
  },
  {
   "cell_type": "markdown",
   "id": "0d53c931",
   "metadata": {},
   "source": [
    "于是，\n",
    "$$\\hat{\\mu}=\\overline{\\xi}=15.5,\\quad \\hat{\\sigma}^2=S^2=7.6$$"
   ]
  },
  {
   "cell_type": "markdown",
   "id": "96a41866",
   "metadata": {},
   "source": [
    "#### 极大似然估计"
   ]
  },
  {
   "cell_type": "markdown",
   "id": "1b12bf66",
   "metadata": {},
   "source": [
    "极大似然估计的基本思想就是使样本获得最大概率的参数值作为未知参数的估计值。\n",
    "在不知道$\\mu,\\sigma$的情况下，正态分布的极大似然估计为：  \n",
    "\n",
    "$$\\hat{\\mu}=\\overline{\\xi}=15.5,\\quad \\hat{\\sigma}^2=S^2=7.6$$"
   ]
  },
  {
   "cell_type": "markdown",
   "id": "6bdf9aa0",
   "metadata": {},
   "source": [
    "#### 区间估计"
   ]
  },
  {
   "cell_type": "markdown",
   "id": "0d9975a6",
   "metadata": {},
   "source": [
    "对于未知参数来说，我们除了关心它的点估计外，往往还希望估计出它的一个范围，以及这个范围覆盖参数真值的可靠程度。这种范围通常用区间的形式给出，这种区间成为参数的置信区间。"
   ]
  },
  {
   "cell_type": "markdown",
   "id": "57315459",
   "metadata": {},
   "source": [
    "设置信度为$1-\\alpha=0.95$。"
   ]
  },
  {
   "cell_type": "markdown",
   "id": "39d00461",
   "metadata": {},
   "source": [
    "因$\\mu,\\sigma$未知，故$\\mu,\\sigma^2$的置信区间分别为:\n",
    "$$\\begin{align}\n",
    "\\overline{\\xi}-\\frac{St_{1-\\alpha/2}(n-1)}{\\sqrt{n-1}}&\\leq \\mu \\leq \\overline{\\xi}+\\frac{St_{1-\\alpha/2}(n-1)}{\\sqrt{n-1}} \\\\\n",
    "\\\\\n",
    "\\frac{(n-1)\\tilde{S}^2}{\\chi_{1-\\alpha/2}^2(n-1)}&\\leq \\sigma^2 \\leq \\frac{(n-1)\\tilde{S}^2}{\\chi_{\\alpha/2}^2(n-1)}\n",
    "\\end{align}$$"
   ]
  },
  {
   "cell_type": "markdown",
   "id": "b794ccc3",
   "metadata": {},
   "source": [
    "现在来计算置信区间："
   ]
  },
  {
   "cell_type": "code",
   "execution_count": 20,
   "id": "58c20fd5",
   "metadata": {},
   "outputs": [
    {
     "name": "stdout",
     "output_type": "stream",
     "text": [
      "u的置信区间=(15.267369932249192，15.815283128975295)\n",
      "sigma_square的置信区间=(6.647703520782632，8.801979447618283)\n"
     ]
    }
   ],
   "source": [
    "from scipy.stats import chi2 #卡方分布\n",
    "from scipy.stats import t #t分布\n",
    "mu_left_inte=T.loc['mean','acceleration']-T.loc['std','acceleration']*t.ppf(0.975,n-1)/np.sqrt(n-1)\n",
    "mu_right_inte=T.loc['mean','acceleration']+T.loc['std','acceleration']*t.ppf(0.975,n-1)/np.sqrt(n-1)\n",
    "si_left_inte=(n-1)*T.loc['cvar','acceleration']/chi2.ppf(0.975,n-1)\n",
    "si_right_inte=(n-1)*T.loc['cvar','acceleration']/chi2.ppf(0.025,n-1)\n",
    "print('u的置信区间=({}，{})'.format(mu_left_inte,mu_right_inte))\n",
    "print('sigma_square的置信区间=({}，{})'.format(si_left_inte,si_right_inte))"
   ]
  },
  {
   "cell_type": "markdown",
   "id": "3690eb81",
   "metadata": {},
   "source": [
    "即：\n",
    "$$\\begin{align}\n",
    "15.3\\leq \\mu \\leq 15.8 \\\\\n",
    "\\\\\n",
    "6.6\\leq \\sigma^2 \\leq 8.8 \n",
    "\\end{align}$$"
   ]
  },
  {
   "cell_type": "markdown",
   "id": "6bf4d8da",
   "metadata": {},
   "source": [
    "与点估计的结果相容。"
   ]
  },
  {
   "cell_type": "markdown",
   "id": "22a658ed",
   "metadata": {},
   "source": [
    "### 独立性检验"
   ]
  },
  {
   "cell_type": "markdown",
   "id": "2305e9d4",
   "metadata": {},
   "source": [
    "设检验水平$\\alpha=0.05$"
   ]
  },
  {
   "cell_type": "markdown",
   "id": "af7f2361",
   "metadata": {},
   "source": [
    "设$F(x,y)$为总体$(\\xi,\\eta)$的分布函数，$F_1(x),F_2(x)$分别为$\\xi,\\eta$的分布函数，则$\\xi,\\eta$相互独立等价于：$\\forall x,y\\in \\mathbb{R} $ \n",
    "\n",
    "$$F(x,y)=F_1(x)F_2(y)$$"
   ]
  },
  {
   "cell_type": "markdown",
   "id": "e42d8cc7",
   "metadata": {},
   "source": [
    "因此关于$\\xi,\\eta$相互独立性的检验等价于检验假设:  \n",
    "\n",
    "$$ H_0:F(x,y)=F_1(x)F_2(y),\\quad H_1:F(x,y)\\neq F_1(x)F_2(y)$$"
   ]
  },
  {
   "cell_type": "markdown",
   "id": "ae4be610",
   "metadata": {},
   "source": [
    "设$(\\xi_1,\\eta_1),\\cdots,(\\xi_n,\\eta_n)$为$(\\xi,\\eta)$的样本，将$\\xi,\\eta$可能取值的范围分别分成$r$个与$s$个互不相交的小区间，用$d_{ik}$表示横向第$i$个小区间与纵向第$k$个小区间构成的小区域，用$n_{ik}$表示样品落入小区域$d_{ik}$的个数，记：  \n",
    "$$n_i=\\sum_{k=1}^{s}{n_{ik}},\\quad n_k=\\sum_{i=1}^{r}{n_{ik}}$$  \n",
    "记样品落入小区域$d_{ik}$的概率为$p_{ik}$,且记:  \n",
    "$$p_i=\\sum_{k=1}^{s}{p_{ik}},\\quad p_k=\\sum_{i=1}^{r}{p_{ik}}$$\n",
    "假设等价于：  \n",
    "\n",
    "$$H_0:p_{ik}=p_ip_k,H_1:\\quad p_{ik}\\neq p_ip_k$$  \n",
    "\n",
    "其中$p_i,i=1,2,\\cdots,r\\quad p_k,k=1,2,\\cdots,s$均为未知参数。\n",
    "\n",
    "\n"
   ]
  },
  {
   "cell_type": "markdown",
   "id": "43b9e8f2",
   "metadata": {},
   "source": [
    "当$H_0$成立时，用极大似然估计值代替未知参数：  \n",
    "$$\\begin{align}\n",
    "\\hat{p}_i=\\frac{n_i}{n},i=1,2,\\cdots,r \\\\\n",
    "\\\\\n",
    "\\hat{p}_k=\\frac{n_k}{n},i=1,2,\\cdots,s \n",
    "\\end{align}$$\n"
   ]
  },
  {
   "cell_type": "markdown",
   "id": "aaaaf4a6",
   "metadata": {},
   "source": [
    "故理论频数$np_{ik}=\\frac{n_in_k}{n}$"
   ]
  },
  {
   "cell_type": "markdown",
   "id": "18099730",
   "metadata": {},
   "source": [
    "卡方统计量：  \n",
    "$$\\chi_n^2=n\\left[\\sum_{i=1}^{r}\\sum_{k=1}^{s}{\\frac{n_{ik}^2}{n_in_k}-1}\\right]\\xrightarrow{L}\\zeta\\sim \\chi^2\\left[rs-1-1(r+s-2)\\right]=\\chi^2\\left[(r-1)(s-1)\\right],n\\rightarrow\\infty$$"
   ]
  },
  {
   "cell_type": "markdown",
   "id": "3a58bf83",
   "metadata": {},
   "source": [
    "当$H_0$成立时，$\\chi_n^2$通常较小。所以，$H_0$的拒绝域为：    \n",
    "\n",
    "$$\\left\\{n\\left[\\sum_{i=1}^{r}\\sum_{k=1}^{s}{\\frac{n_{ik}^2}{n_in_k}-1}\\right]>\\chi_{0.95}^2((r-1)(s-1))\\right\\}$$\n"
   ]
  },
  {
   "cell_type": "markdown",
   "id": "82e08f9f",
   "metadata": {},
   "source": [
    "---"
   ]
  },
  {
   "cell_type": "markdown",
   "id": "c23fda21",
   "metadata": {},
   "source": [
    "在此数据集中，我们来检验**origin**和**horsepower**之间是否有相关性，即汽车产地是美国、欧洲、日本，是否影响马力。  \n",
    "同上述，将**horsepower**分为20组。则拒绝域为：  \n",
    "\n",
    "$$\\left\\{n\\left[\\sum_{i=1}^{r}\\sum_{k=1}^{s}{\\frac{n_{ik}^2}{n_in_k}-1}\\right]>\\chi_{0.95}^2(38)=53.384\\right\\}$$"
   ]
  },
  {
   "cell_type": "markdown",
   "id": "99e2351a",
   "metadata": {},
   "source": [
    "绘制联列表："
   ]
  },
  {
   "cell_type": "code",
   "execution_count": 21,
   "id": "67e92d81",
   "metadata": {},
   "outputs": [
    {
     "data": {
      "text/html": [
       "<div>\n",
       "<style scoped>\n",
       "    .dataframe tbody tr th:only-of-type {\n",
       "        vertical-align: middle;\n",
       "    }\n",
       "\n",
       "    .dataframe tbody tr th {\n",
       "        vertical-align: top;\n",
       "    }\n",
       "\n",
       "    .dataframe thead th {\n",
       "        text-align: right;\n",
       "    }\n",
       "</style>\n",
       "<table border=\"1\" class=\"dataframe\">\n",
       "  <thead>\n",
       "    <tr style=\"text-align: right;\">\n",
       "      <th></th>\n",
       "      <th>1</th>\n",
       "      <th>2</th>\n",
       "      <th>3</th>\n",
       "    </tr>\n",
       "  </thead>\n",
       "  <tbody>\n",
       "    <tr>\n",
       "      <th>1</th>\n",
       "      <td>1</td>\n",
       "      <td>8</td>\n",
       "      <td>4</td>\n",
       "    </tr>\n",
       "    <tr>\n",
       "      <th>2</th>\n",
       "      <td>5</td>\n",
       "      <td>3</td>\n",
       "      <td>6</td>\n",
       "    </tr>\n",
       "    <tr>\n",
       "      <th>3</th>\n",
       "      <td>14</td>\n",
       "      <td>14</td>\n",
       "      <td>27</td>\n",
       "    </tr>\n",
       "    <tr>\n",
       "      <th>4</th>\n",
       "      <td>15</td>\n",
       "      <td>16</td>\n",
       "      <td>9</td>\n",
       "    </tr>\n",
       "    <tr>\n",
       "      <th>5</th>\n",
       "      <td>48</td>\n",
       "      <td>12</td>\n",
       "      <td>7</td>\n",
       "    </tr>\n",
       "    <tr>\n",
       "      <th>6</th>\n",
       "      <td>30</td>\n",
       "      <td>3</td>\n",
       "      <td>20</td>\n",
       "    </tr>\n",
       "    <tr>\n",
       "      <th>7</th>\n",
       "      <td>28</td>\n",
       "      <td>4</td>\n",
       "      <td>2</td>\n",
       "    </tr>\n",
       "    <tr>\n",
       "      <th>8</th>\n",
       "      <td>4</td>\n",
       "      <td>5</td>\n",
       "      <td>1</td>\n",
       "    </tr>\n",
       "    <tr>\n",
       "      <th>9</th>\n",
       "      <td>4</td>\n",
       "      <td>2</td>\n",
       "      <td>2</td>\n",
       "    </tr>\n",
       "    <tr>\n",
       "      <th>10</th>\n",
       "      <td>9</td>\n",
       "      <td>1</td>\n",
       "      <td>1</td>\n",
       "    </tr>\n",
       "    <tr>\n",
       "      <th>11</th>\n",
       "      <td>18</td>\n",
       "      <td>0</td>\n",
       "      <td>0</td>\n",
       "    </tr>\n",
       "    <tr>\n",
       "      <th>12</th>\n",
       "      <td>29</td>\n",
       "      <td>0</td>\n",
       "      <td>0</td>\n",
       "    </tr>\n",
       "    <tr>\n",
       "      <th>13</th>\n",
       "      <td>7</td>\n",
       "      <td>0</td>\n",
       "      <td>0</td>\n",
       "    </tr>\n",
       "    <tr>\n",
       "      <th>14</th>\n",
       "      <td>6</td>\n",
       "      <td>0</td>\n",
       "      <td>0</td>\n",
       "    </tr>\n",
       "    <tr>\n",
       "      <th>15</th>\n",
       "      <td>10</td>\n",
       "      <td>0</td>\n",
       "      <td>0</td>\n",
       "    </tr>\n",
       "    <tr>\n",
       "      <th>16</th>\n",
       "      <td>4</td>\n",
       "      <td>0</td>\n",
       "      <td>0</td>\n",
       "    </tr>\n",
       "    <tr>\n",
       "      <th>17</th>\n",
       "      <td>3</td>\n",
       "      <td>0</td>\n",
       "      <td>0</td>\n",
       "    </tr>\n",
       "    <tr>\n",
       "      <th>18</th>\n",
       "      <td>2</td>\n",
       "      <td>0</td>\n",
       "      <td>0</td>\n",
       "    </tr>\n",
       "    <tr>\n",
       "      <th>19</th>\n",
       "      <td>4</td>\n",
       "      <td>0</td>\n",
       "      <td>0</td>\n",
       "    </tr>\n",
       "    <tr>\n",
       "      <th>20</th>\n",
       "      <td>3</td>\n",
       "      <td>0</td>\n",
       "      <td>0</td>\n",
       "    </tr>\n",
       "  </tbody>\n",
       "</table>\n",
       "</div>"
      ],
      "text/plain": [
       "     1   2   3\n",
       "1    1   8   4\n",
       "2    5   3   6\n",
       "3   14  14  27\n",
       "4   15  16   9\n",
       "5   48  12   7\n",
       "6   30   3  20\n",
       "7   28   4   2\n",
       "8    4   5   1\n",
       "9    4   2   2\n",
       "10   9   1   1\n",
       "11  18   0   0\n",
       "12  29   0   0\n",
       "13   7   0   0\n",
       "14   6   0   0\n",
       "15  10   0   0\n",
       "16   4   0   0\n",
       "17   3   0   0\n",
       "18   2   0   0\n",
       "19   4   0   0\n",
       "20   3   0   0"
      ]
     },
     "execution_count": 21,
     "metadata": {},
     "output_type": "execute_result"
    }
   ],
   "source": [
    "precrosstab=[[],[],[]] #交叉表\n",
    "for i in range(3):\n",
    "    for j in range(20):\n",
    "        precrosstab[i].append(((AUTO['horsepower']>=edgehorsepower[j]) & (AUTO['horsepower']<edgehorsepower[j+1]) \n",
    "                            & (AUTO['origin']==i+1)).sum())\n",
    "crosstab=pd.DataFrame(np.array(precrosstab).T,columns=(1,2,3),index=list(range(1,21)))\n",
    "crosstab"
   ]
  },
  {
   "cell_type": "code",
   "execution_count": 22,
   "id": "7fe73b43",
   "metadata": {
    "scrolled": false
   },
   "outputs": [
    {
     "name": "stdout",
     "output_type": "stream",
     "text": [
      "Chi2ContingencyResult(statistic=163.88336794321881, pvalue=1.431562248205477e-17, dof=38, expected_freq=array([[ 8.11253197,  2.26086957,  2.62659847],\n",
      "       [ 8.73657289,  2.43478261,  2.8286445 ],\n",
      "       [34.32225064,  9.56521739, 11.11253197],\n",
      "       [24.96163683,  6.95652174,  8.08184143],\n",
      "       [41.81074169, 11.65217391, 13.5370844 ],\n",
      "       [33.0741688 ,  9.2173913 , 10.7084399 ],\n",
      "       [21.2173913 ,  5.91304348,  6.86956522],\n",
      "       [ 6.24040921,  1.73913043,  2.02046036],\n",
      "       [ 4.99232737,  1.39130435,  1.61636829],\n",
      "       [ 6.86445013,  1.91304348,  2.22250639],\n",
      "       [11.23273657,  3.13043478,  3.63682864],\n",
      "       [18.0971867 ,  5.04347826,  5.85933504],\n",
      "       [ 4.36828645,  1.2173913 ,  1.41432225],\n",
      "       [ 3.74424552,  1.04347826,  1.21227621],\n",
      "       [ 6.24040921,  1.73913043,  2.02046036],\n",
      "       [ 2.49616368,  0.69565217,  0.80818414],\n",
      "       [ 1.87212276,  0.52173913,  0.60613811],\n",
      "       [ 1.24808184,  0.34782609,  0.40409207],\n",
      "       [ 2.49616368,  0.69565217,  0.80818414],\n",
      "       [ 1.87212276,  0.52173913,  0.60613811]]))\n"
     ]
    }
   ],
   "source": [
    "#计算统计量\n",
    "from scipy.stats import chi2_contingency\n",
    "print(chi2_contingency(crosstab))"
   ]
  },
  {
   "cell_type": "markdown",
   "id": "17bf6f3d",
   "metadata": {},
   "source": [
    "卡方统计量为163.883。假设被拒绝。"
   ]
  },
  {
   "cell_type": "markdown",
   "id": "55514c3a",
   "metadata": {},
   "source": [
    "事实上，观察相关系数表可以知道其相关系数为-0.455171，故有较强的负相关性。"
   ]
  },
  {
   "cell_type": "markdown",
   "id": "41bf2367",
   "metadata": {},
   "source": [
    "### 单因素方差分析"
   ]
  },
  {
   "cell_type": "markdown",
   "id": "f932eaa3",
   "metadata": {},
   "source": [
    "设检验水平$\\alpha=0.05$"
   ]
  },
  {
   "cell_type": "markdown",
   "id": "e010ae71",
   "metadata": {},
   "source": [
    "单因素方差分析是固定其他因素只考虑某一因素A对实验指标的影响。取因素A的r个水平$A_1,A_2,\\cdots,A_r$,对水平$A_i$重复做$n_i$次实验，可得实验指标的$n_i$个数据$y_{i1},\\cdots,y_{in_i}$。用$\\eta_i$表示在水平$A_i$的情况下实验指标的数值，$\\eta_{i1},\\cdots,\\eta_{in_i}$表示以$\\eta_i$为总体的样本。"
   ]
  },
  {
   "cell_type": "markdown",
   "id": "eb959f6c",
   "metadata": {},
   "source": [
    "假定上述的r个总体$\\eta_{1},\\cdots,\\eta_r$是相互独立的随机变量，$\\eta_{i}\\sim N(a_i,\\sigma^2)$,$\\sigma^2$未知，诸$a_i$也未知，并假定在个水平下每次实验都是独立进行的，所以$\\eta_{ij}$是相互独立的。自然，其同分布。"
   ]
  },
  {
   "cell_type": "markdown",
   "id": "8b2503f0",
   "metadata": {},
   "source": [
    "在此模型下，我们需检验假设：\n",
    "$$H_0:a_1=a_2=\\cdots=a_r$$"
   ]
  },
  {
   "cell_type": "markdown",
   "id": "718f9e32",
   "metadata": {},
   "source": [
    "记：\n",
    "$$\\begin{align}\n",
    "Q&=\\sum_{i=1}^{r}\\sum_{j=1}^{n_i}{(\\eta_{ij}-\\overline{\\eta})^2} \\\\\n",
    "\\\\ \n",
    "Q_A&=\\sum_{i=1}^{r}{n_i(\\overline{\\eta}_i-\\overline{\\eta})^2}\\\\\n",
    "\\\\\n",
    "Q_e&=\\sum_{i=1}^{r}\\sum_{j=1}^{n_i}{(\\eta_{ij}-\\overline{\\eta}_i)^2}\n",
    "\\end{align}$$\n",
    "\n"
   ]
  },
  {
   "cell_type": "markdown",
   "id": "5a994a83",
   "metadata": {},
   "source": [
    "其中$\\overline{\\eta}_i=\\frac{1}{n_i}\\sum_{j=1}^{n_i}{\\eta_{ij}}.\\overline{\\eta}=\\frac{1}{n}\\sum_{i=1}^{r}\\sum_{j=1}^{n_i}{\\eta_{ij}}$"
   ]
  },
  {
   "cell_type": "markdown",
   "id": "a765d585",
   "metadata": {},
   "source": [
    "计算可得：  \n",
    "\n",
    "$$Q=Q_e+Q_A$$"
   ]
  },
  {
   "cell_type": "markdown",
   "id": "62e5b9b7",
   "metadata": {},
   "source": [
    "上式称为总偏差平方和分解式，称$Q_e$为误差平方和，$Q_A$为因子平方和。"
   ]
  },
  {
   "cell_type": "markdown",
   "id": "f347554c",
   "metadata": {},
   "source": [
    "当假设成立时，可得：\n",
    "$$\\begin{align}\n",
    "\\frac{Q}{\\sigma^2}\\sim \\chi^2(n-1),\\quad \\frac{Q_A}{\\sigma^2}\\sim \\chi^2(r-1)\\\\\n",
    "\\\\\n",
    "F:=\\frac{(n-r)Q_A}{(r-1)Q_e}\\sim F(r-1,n-r)\n",
    "\\end{align}$$"
   ]
  },
  {
   "cell_type": "markdown",
   "id": "9eb4242d",
   "metadata": {},
   "source": [
    "如果$\\frac{(n-r)Q_A}{(r-1)Q_e}$较大，说明水平之间差异的影响胜过随机误差的影响，这时，我们应该拒绝$H_0$。所以拒绝域为：  \n",
    "\n",
    "$$\\left\\{\\frac{(n-r)Q_A}{(r-1)Q_e}>F_{1-\\alpha}(r-1,n-r)\\right\\}$$"
   ]
  },
  {
   "cell_type": "markdown",
   "id": "d7aac0d1",
   "metadata": {},
   "source": [
    "---"
   ]
  },
  {
   "cell_type": "markdown",
   "id": "109892ac",
   "metadata": {},
   "source": [
    "在这里，由于只有**acceleration**服从正态分布，故我们以其作为实验指标。我们假设只有**origin**可以对**acceleratio**作出影响，即以**origin**为因子，且不考虑其他变量对结果的影响来做单因素方差分析。"
   ]
  },
  {
   "cell_type": "markdown",
   "id": "ed05d30d",
   "metadata": {},
   "source": [
    "假设**origin**不同水平下对**acceleration**有相同影响。"
   ]
  },
  {
   "cell_type": "markdown",
   "id": "af9befbc",
   "metadata": {},
   "source": [
    "由于单因素方差分析要求各水平总体的方差相同，故我们先来看看在水平1，2，3下的方差："
   ]
  },
  {
   "cell_type": "code",
   "execution_count": 23,
   "id": "9db1ebec",
   "metadata": {},
   "outputs": [
    {
     "name": "stdout",
     "output_type": "stream",
     "text": [
      "水平1下的方差为:7.485805286048838\n",
      "水平2下的方差为:9.534591747146619\n",
      "水平3下的方差为:3.8217786432976313\n"
     ]
    }
   ],
   "source": [
    "for i in range(3):\n",
    "    print('水平{}下的方差为:{}'.format(i+1,AUTO[AUTO['origin']==i+1]['acceleration'].var()))"
   ]
  },
  {
   "cell_type": "markdown",
   "id": "89d64d49",
   "metadata": {},
   "source": [
    "故不满足单因素方差分析**方差齐性**的假设。这时我们需要用到**Welch矫正分析**。"
   ]
  },
  {
   "cell_type": "markdown",
   "id": "24d04c9d",
   "metadata": {},
   "source": [
    "**Welch矫正**的主要思想是通过添加权重$\\omega_i$来减少方差非齐性对分析带来的影响：  \n",
    "\n",
    "$$\\omega_i=\\frac{n_i}{S^2_i},i=1,2,\\cdots,r$$  \n",
    "$S^2_i$为各水平观察值的方差。"
   ]
  },
  {
   "cell_type": "markdown",
   "id": "b55293e6",
   "metadata": {},
   "source": [
    "矫正均值定义为：  \n",
    "\n",
    "$$\\overline{Y}_{welch}=\\frac{\\sum_{i}^{r}{\\omega_i\\overline{Y}_i}}{\\sum_{i=1}^{r}\\omega_i}$$  \n",
    "$\\overline{Y}_i$为第$i$组的均值。"
   ]
  },
  {
   "cell_type": "markdown",
   "id": "be2c6a4e",
   "metadata": {},
   "source": [
    "有效平方和定义为：\n",
    "$$SS_{effect}=\\sum_{i=1}^{r}{\\omega_i(\\overline{Y}_i-\\overline{Y}_{welch})^2}$$"
   ]
  },
  {
   "cell_type": "markdown",
   "id": "cf768999",
   "metadata": {},
   "source": [
    "定义常量$\\Lambda$:  \n",
    "$$ \\Lambda=\\frac{3\\sum_{i=1}^{r}{(\\frac{1}{n_i-1})(1-\\frac{\\omega_i}{\\sum_{i=1}^{r}{\\omega_i}})^2}}{r^2-1}$$\n"
   ]
  },
  {
   "cell_type": "markdown",
   "id": "54952660",
   "metadata": {},
   "source": [
    "F-检验值：  \n",
    "\n",
    "$$F_{welch}=\\frac{SS_{effect}/(r-1)}{1+\\frac{2\\Lambda_(r-2)}{3}}\\sim F(r-1,1/\\Lambda)$$"
   ]
  },
  {
   "cell_type": "markdown",
   "id": "1c7991c0",
   "metadata": {},
   "source": [
    "则拒绝域为：\n",
    "$$\\left\\{ F_{welch}>F_{1-\\alpha}(r-1,1/\\Lambda)\\right\\}$$"
   ]
  },
  {
   "cell_type": "markdown",
   "id": "f75d62a9",
   "metadata": {},
   "source": [
    "现在我们用**Welch矫正**来进行单因素方差分析。*Python*中可以用*pingouin*库来进行这些操作。"
   ]
  },
  {
   "cell_type": "code",
   "execution_count": 24,
   "id": "6d69f1f7",
   "metadata": {},
   "outputs": [
    {
     "data": {
      "text/html": [
       "<div>\n",
       "<style scoped>\n",
       "    .dataframe tbody tr th:only-of-type {\n",
       "        vertical-align: middle;\n",
       "    }\n",
       "\n",
       "    .dataframe tbody tr th {\n",
       "        vertical-align: top;\n",
       "    }\n",
       "\n",
       "    .dataframe thead th {\n",
       "        text-align: right;\n",
       "    }\n",
       "</style>\n",
       "<table border=\"1\" class=\"dataframe\">\n",
       "  <thead>\n",
       "    <tr style=\"text-align: right;\">\n",
       "      <th></th>\n",
       "      <th>Source</th>\n",
       "      <th>ddof1</th>\n",
       "      <th>ddof2</th>\n",
       "      <th>F</th>\n",
       "      <th>p-unc</th>\n",
       "      <th>np2</th>\n",
       "    </tr>\n",
       "  </thead>\n",
       "  <tbody>\n",
       "    <tr>\n",
       "      <th>0</th>\n",
       "      <td>origin</td>\n",
       "      <td>2</td>\n",
       "      <td>147.823502</td>\n",
       "      <td>14.486697</td>\n",
       "      <td>0.000002</td>\n",
       "      <td>0.07143</td>\n",
       "    </tr>\n",
       "  </tbody>\n",
       "</table>\n",
       "</div>"
      ],
      "text/plain": [
       "   Source  ddof1       ddof2          F     p-unc      np2\n",
       "0  origin      2  147.823502  14.486697  0.000002  0.07143"
      ]
     },
     "execution_count": 24,
     "metadata": {},
     "output_type": "execute_result"
    }
   ],
   "source": [
    "import pingouin as pg\n",
    "anovadata=AUTO.loc[:,['acceleration','origin']]\n",
    "pg.welch_anova(data=anovadata,dv='acceleration',between='origin') #welch_anova"
   ]
  },
  {
   "cell_type": "markdown",
   "id": "b5f3b3e0",
   "metadata": {},
   "source": [
    "可以看到$p-value$远小于0.05，故假设被拒绝，即不认为**origin**取值1，2，3对**acceleration**有相同影响。"
   ]
  },
  {
   "cell_type": "markdown",
   "id": "07b9cd3b",
   "metadata": {},
   "source": [
    "### 线性回归"
   ]
  },
  {
   "cell_type": "markdown",
   "id": "77f6a321",
   "metadata": {},
   "source": [
    "#### 简单线性回归"
   ]
  },
  {
   "cell_type": "markdown",
   "id": "2f47ccac",
   "metadata": {},
   "source": [
    "##### 系数估计"
   ]
  },
  {
   "cell_type": "markdown",
   "id": "3a49f835",
   "metadata": {},
   "source": [
    "通过分析数据，我们自然想问：这些变量之间有什么特殊关系吗？具体来说，我们一般认为**mpg**，**displacement**，**horsepower**会对**acceleration**有直接影响。例如，**horsepower**越大，加速到60mph所需时间应该越少，即**horsepower**和**acceleration**可能近似成反比。以**acceleration**为因变量，我们来画出这两个随机变量的**散点图**。"
   ]
  },
  {
   "cell_type": "code",
   "execution_count": 25,
   "id": "dd70d853",
   "metadata": {},
   "outputs": [
    {
     "data": {
      "text/plain": [
       "<Axes: xlabel='horsepower', ylabel='acceleration'>"
      ]
     },
     "execution_count": 25,
     "metadata": {},
     "output_type": "execute_result"
    },
    {
     "data": {
      "image/png": "[encoded data removed]",
      "text/plain": [
       "<Figure size 640x480 with 1 Axes>"
      ]
     },
     "metadata": {},
     "output_type": "display_data"
    }
   ],
   "source": [
    "AUTO.plot.scatter('horsepower','acceleration')"
   ]
  },
  {
   "cell_type": "markdown",
   "id": "773f2a97",
   "metadata": {},
   "source": [
    "可以看到，**horsepower**和**acceleration**大致落在一条直线附近，这说明二者之间大致可以看作线性关系：  \n",
    "\n",
    "$$ y_{acceleration}\\approx \\beta_0+\\beta_1x_{horsepower}$$"
   ]
  },
  {
   "cell_type": "markdown",
   "id": "21504985",
   "metadata": {},
   "source": [
    "$\\beta_0,\\beta_1$分别代表截距intercept与斜率slope，是未知常系数。"
   ]
  },
  {
   "cell_type": "markdown",
   "id": "96993cb9",
   "metadata": {},
   "source": [
    "实际上，**acceleration**除了受到**horsepower**的影响，还可能收到其他影响，又或者数据有测量误差，所以我们可以假设有如下关系：  \n",
    "\n",
    "$$y_{acceleration}\\approx \\beta_0+\\beta_1x_{horsepower}+\\epsilon$$"
   ]
  },
  {
   "cell_type": "markdown",
   "id": "626dd531",
   "metadata": {},
   "source": [
    "$\\epsilon$误差项是随机变量，一般假设$E(\\epsilon)=0,D(\\epsilon)=\\sigma^2$,且$\\epsilon$与$x$独立。"
   ]
  },
  {
   "cell_type": "markdown",
   "id": "e63d2640",
   "metadata": {},
   "source": [
    "于是，$y_{acceleration}$也为随机变量，$x_{horsepower}$为固定的自变量。"
   ]
  },
  {
   "cell_type": "markdown",
   "id": "105a5138",
   "metadata": {},
   "source": [
    "现在，我们用数据来估计$\\beta_0,\\beta_1$。令：  \n",
    "\n",
    "$$ (x_1,y_1),(x_2,y_2),\\cdots,(x_n,y_n)$$  \n",
    "为n个观察值。在这里，$n=392$。  \n",
    "\n",
    "我们希望找到$\\hat{\\beta}_0,\\hat{\\beta}_1$使得这条直线尽可能地与这392个点靠近，常用的方法是**最小二乘法**：  \n",
    "记$\\hat{y}_i=\\hat{\\beta}_0+\\hat{\\beta}_1x_i$为第$i$个数据的预测值，$e_i=y_i-\\hat{y}_i$为第$i$个数据观察值与预测值的残差，定义**残差平方和residual sum of squares** ：  \n",
    "\n",
    "$$RSS=e_1^2+e_2^2+\\cdots+e_n^2$$  \n",
    "我们以使$RSS$最小的$\\hat{\\beta}_0,\\hat{\\beta}_1$作为估计值，有：  \n",
    "$$\\begin{align}\n",
    "\\hat{\\beta}_1&=\\frac{\\sum_{i=1}^{n}{(x_i-\\overline{x})(y_i-\\overline{y})}}{\\sum_{i=1}^{n}{(x_i-\\overline{x})^2}}\\\\\n",
    "\\\\\n",
    "\\hat{\\beta}_0&=\\overline{y}-\\hat{\\beta}_1\\overline{x}\n",
    "\\end{align}$$  \n",
    "$\\overline{y}=\\frac{1}{n}\\sum_{i=1}^{n}{y_i},\\overline{x}=\\frac{1}{n}\\sum_{i=1}^{n}{x_i}$为样本点均值。\n",
    "\n"
   ]
  },
  {
   "cell_type": "markdown",
   "id": "0849f038",
   "metadata": {},
   "source": [
    "我们来计算一下："
   ]
  },
  {
   "cell_type": "code",
   "execution_count": 26,
   "id": "50eaacdb",
   "metadata": {},
   "outputs": [],
   "source": [
    "#引入必要的库\n",
    "import statsmodels.api as sm\n",
    "from statsmodels.stats.outliers_influence \\\n",
    "import variance_inflation_factor as VIF\n",
    "from statsmodels.stats.anova import anova_lm\n",
    "from ISLP.models import (ModelSpec as MS,\n",
    "summarize,\n",
    "poly)"
   ]
  },
  {
   "cell_type": "code",
   "execution_count": 27,
   "id": "b0bd1ff1",
   "metadata": {},
   "outputs": [
    {
     "data": {
      "text/html": [
       "<div>\n",
       "<style scoped>\n",
       "    .dataframe tbody tr th:only-of-type {\n",
       "        vertical-align: middle;\n",
       "    }\n",
       "\n",
       "    .dataframe tbody tr th {\n",
       "        vertical-align: top;\n",
       "    }\n",
       "\n",
       "    .dataframe thead th {\n",
       "        text-align: right;\n",
       "    }\n",
       "</style>\n",
       "<table border=\"1\" class=\"dataframe\">\n",
       "  <thead>\n",
       "    <tr style=\"text-align: right;\">\n",
       "      <th></th>\n",
       "      <th>intercept</th>\n",
       "      <th>horsepower</th>\n",
       "    </tr>\n",
       "  </thead>\n",
       "  <tbody>\n",
       "    <tr>\n",
       "      <th>0</th>\n",
       "      <td>1.0</td>\n",
       "      <td>130</td>\n",
       "    </tr>\n",
       "    <tr>\n",
       "      <th>1</th>\n",
       "      <td>1.0</td>\n",
       "      <td>165</td>\n",
       "    </tr>\n",
       "    <tr>\n",
       "      <th>2</th>\n",
       "      <td>1.0</td>\n",
       "      <td>150</td>\n",
       "    </tr>\n",
       "    <tr>\n",
       "      <th>3</th>\n",
       "      <td>1.0</td>\n",
       "      <td>150</td>\n",
       "    </tr>\n",
       "  </tbody>\n",
       "</table>\n",
       "</div>"
      ],
      "text/plain": [
       "   intercept  horsepower\n",
       "0        1.0         130\n",
       "1        1.0         165\n",
       "2        1.0         150\n",
       "3        1.0         150"
      ]
     },
     "execution_count": 27,
     "metadata": {},
     "output_type": "execute_result"
    }
   ],
   "source": [
    "#构建model matrix\n",
    "design=MS(['horsepower'])\n",
    "design=design.fit(AUTO)\n",
    "X_horse=design.transform(AUTO)\n",
    "X_horse[:4]"
   ]
  },
  {
   "cell_type": "code",
   "execution_count": 28,
   "id": "d57db30f",
   "metadata": {},
   "outputs": [
    {
     "data": {
      "text/plain": [
       "intercept     20.701934\n",
       "horsepower    -0.049398\n",
       "dtype: float64"
      ]
     },
     "execution_count": 28,
     "metadata": {},
     "output_type": "execute_result"
    }
   ],
   "source": [
    "y_acce=AUTO['acceleration']\n",
    "model=sm.OLS(y_acce,X_horse) #构建模型\n",
    "results=model.fit() #开始拟合\n",
    "results.params"
   ]
  },
  {
   "cell_type": "markdown",
   "id": "2a13ea5a",
   "metadata": {},
   "source": [
    "得：  \n",
    "\n",
    "$$ \\hat{\\beta}_0=20.701934,\\quad \\hat{\\beta}_1=-0.049398$$"
   ]
  },
  {
   "cell_type": "markdown",
   "id": "391830b6",
   "metadata": {},
   "source": [
    "在散点图中作出拟合直线："
   ]
  },
  {
   "cell_type": "code",
   "execution_count": 29,
   "id": "129c0e73",
   "metadata": {},
   "outputs": [
    {
     "data": {
      "image/png": "[encoded data removed]",
      "text/plain": [
       "<Figure size 640x480 with 1 Axes>"
      ]
     },
     "metadata": {},
     "output_type": "display_data"
    }
   ],
   "source": [
    "def abline(ax, b, m, *args, **kwargs):\n",
    "    \"\"\"在图ax中添加回归直线\"\"\"\n",
    "    xlim=ax.get_xlim()\n",
    "    ylim =[m * xlim[0]+b,m*xlim[1]+b]\n",
    "    ax.plot(xlim, ylim, *args, **kwargs)\n",
    "    plt.show()\n",
    "\n",
    "abline(AUTO.plot.scatter('horsepower','acceleration'),results.params[0],results.params[1],'r--',linewidth=2)"
   ]
  },
  {
   "cell_type": "markdown",
   "id": "159ef291",
   "metadata": {},
   "source": [
    "拟合效果不错。"
   ]
  },
  {
   "cell_type": "markdown",
   "id": "1b8952f6",
   "metadata": {},
   "source": [
    "##### 估计量的检验"
   ]
  },
  {
   "cell_type": "markdown",
   "id": "1dd2fe26",
   "metadata": {},
   "source": [
    "*python*的*OLS*回归提供了我们所需要的数据：\n"
   ]
  },
  {
   "cell_type": "code",
   "execution_count": 30,
   "id": "d13a2764",
   "metadata": {},
   "outputs": [
    {
     "name": "stdout",
     "output_type": "stream",
     "text": [
      "                            OLS Regression Results                            \n",
      "==============================================================================\n",
      "Dep. Variable:           acceleration   R-squared:                       0.475\n",
      "Model:                            OLS   Adj. R-squared:                  0.474\n",
      "Method:                 Least Squares   F-statistic:                     352.8\n",
      "Date:                Fri, 15 Dec 2023   Prob (F-statistic):           1.58e-56\n",
      "Time:                        23:18:17   Log-Likelihood:                -827.24\n",
      "No. Observations:                 392   AIC:                             1658.\n",
      "Df Residuals:                     390   BIC:                             1666.\n",
      "Df Model:                           1                                         \n",
      "Covariance Type:            nonrobust                                         \n",
      "==============================================================================\n",
      "                 coef    std err          t      P>|t|      [0.025      0.975]\n",
      "------------------------------------------------------------------------------\n",
      "intercept     20.7019      0.293     70.717      0.000      20.126      21.277\n",
      "horsepower    -0.0494      0.003    -18.784      0.000      -0.055      -0.044\n",
      "==============================================================================\n",
      "Omnibus:                       29.904   Durbin-Watson:                   1.483\n",
      "Prob(Omnibus):                  0.000   Jarque-Bera (JB):               37.989\n",
      "Skew:                           0.608   Prob(JB):                     5.63e-09\n",
      "Kurtosis:                       3.919   Cond. No.                         322.\n",
      "==============================================================================\n",
      "\n",
      "Notes:\n",
      "[1] Standard Errors assume that the covariance matrix of the errors is correctly specified.\n"
     ]
    }
   ],
   "source": [
    "print(results.summary())"
   ]
  },
  {
   "cell_type": "markdown",
   "id": "46e2f1c0",
   "metadata": {},
   "source": [
    "事实上，$\\hat{\\beta}_0,\\hat{\\beta}_1$是$\\beta_0,\\beta_1$的线性无偏估计量。其方差有如下形式：  \n",
    "\n",
    "$$\\begin{align}\n",
    "SE(\\hat{\\beta}_0)^2&=\\sigma^2\\left[\\frac{1}{n}+\\frac{\\overline{x}^2}{\\sum_{i=1}^{n}{(x_i-\\overline{x})^2}}\\right]\\\\\n",
    "\\\\\n",
    "SE(\\hat{\\beta}_1)^2&=\\frac{\\sigma^2}{\\sum_{i=1}^{n}{(x_i-\\overline{x})^2}}\n",
    "\\end{align}$$"
   ]
  },
  {
   "cell_type": "markdown",
   "id": "1ec43700",
   "metadata": {},
   "source": [
    "$\\sigma^2$未知，但可以以估计量代替。$\\hat{\\sigma}$被称为**标准残差:residual standard error**:  \n",
    "\n",
    "$$ RSE=\\sqrt{RSS/(n-2)}$$"
   ]
  },
  {
   "cell_type": "markdown",
   "id": "f12bf6d9",
   "metadata": {},
   "source": [
    "其为$\\sigma$的无偏估计量。"
   ]
  },
  {
   "cell_type": "markdown",
   "id": "9fc031d0",
   "metadata": {},
   "source": [
    "标准差可以被用来计算置信区间，$\\hat{\\beta}_0,\\hat{\\beta}_1$置信区间分别为：  \n",
    "\n",
    "$$\\begin{align}\n",
    "\\left[\\hat{\\beta}_0-2SE(\\hat{\\beta}_0),\\hat{\\beta}_0+2SE(\\hat{\\beta}_0)\\right]\\\\\n",
    "\\\\\n",
    "\\left[\\hat{\\beta}_1-2SE(\\hat{\\beta}_1),\\hat{\\beta}_1+2SE(\\hat{\\beta}_1)\\right]\n",
    "\\end{align}$$"
   ]
  },
  {
   "cell_type": "markdown",
   "id": "7ec5bf2d",
   "metadata": {},
   "source": [
    "由表可得其0.95置信区间：  \n",
    "\n",
    "$$\\begin{align}\n",
    "&\\left[20.126384,21.277484\\right]\\\\\n",
    "\\\\\n",
    "&\\left[-0.054569,-0.044228\\right]\n",
    "\\end{align}$$"
   ]
  },
  {
   "cell_type": "markdown",
   "id": "44258b58",
   "metadata": {},
   "source": [
    "与点估计结果相容。"
   ]
  },
  {
   "cell_type": "markdown",
   "id": "25a4d44c",
   "metadata": {},
   "source": [
    "---"
   ]
  },
  {
   "cell_type": "markdown",
   "id": "61428f0e",
   "metadata": {},
   "source": [
    "标准差也可以用来执行假设检验。在该问题中，我们事先并不知道或不能断定随机变量**acceleration**与**horsepower**之间确有线性关系。因此，在求出线性回归方程之后，还需对求出的线性回归方程同实际数据拟合效果进行检验，可提出如下原假设：  \n",
    "\n",
    "$$ H_0:acceleration与horsepower没有该线性关系\\quad  \n",
    "H_1:acceleration与horsepower有该线性关系 $$"
   ]
  },
  {
   "cell_type": "markdown",
   "id": "47072867",
   "metadata": {},
   "source": [
    "即：  \n",
    "\n",
    "$$H_0:\\beta_1=0\\quad H_1:\\beta_1\\neq0$$"
   ]
  },
  {
   "cell_type": "markdown",
   "id": "96c05b2f",
   "metadata": {},
   "source": [
    "我们可以使用**t-检验**来检验假设(检验水平为0.05)：  \n",
    "\n",
    "$$t=\\frac{\\hat{\\beta}_1-0}{SE(\\hat{\\beta}_1)}\\sim t(n-2)$$"
   ]
  },
  {
   "cell_type": "markdown",
   "id": "2be13edb",
   "metadata": {},
   "source": [
    "由表可得，**p-value**远小于0.05，故假设被拒绝，即**horsepower**与**acceleration**有该线性关系。"
   ]
  },
  {
   "cell_type": "markdown",
   "id": "fbaf8a1c",
   "metadata": {},
   "source": [
    "##### 模型拟合度的检验"
   ]
  },
  {
   "cell_type": "markdown",
   "id": "be61048f",
   "metadata": {},
   "source": [
    "我们拒绝了零假设，自然的，我们想知道这个线性模型是否很好的拟合了数据。模型的拟合度一般用这两个相关量来评价：$RSE、R^2-statistic$。"
   ]
  },
  {
   "cell_type": "markdown",
   "id": "5d968558",
   "metadata": {},
   "source": [
    "$\\bullet$**RSE**"
   ]
  },
  {
   "cell_type": "markdown",
   "id": "3b6ffe60",
   "metadata": {},
   "source": [
    "因为误差项的存在，即使我们知道真正的线性关系，也无法准确预测结果。**RSE**是对$\\epsilon$的标准差的无偏估计，通俗来说，它表示了真实值与直线的偏离程度。我们来计算该模型的**RSE**:"
   ]
  },
  {
   "cell_type": "code",
   "execution_count": 31,
   "id": "c007ebae",
   "metadata": {},
   "outputs": [
    {
     "name": "stdout",
     "output_type": "stream",
     "text": [
      "RSE=2.0015663319004675\n"
     ]
    }
   ],
   "source": [
    "print('RSE={}'.format(np.sqrt(results.scale)))"
   ]
  },
  {
   "cell_type": "markdown",
   "id": "5ad47da6",
   "metadata": {},
   "source": [
    "如果假设是正确的，且对系数的估计也是准确的，那么对**acceleration**的预测平均也会偏离真实值**2**个点。"
   ]
  },
  {
   "cell_type": "markdown",
   "id": "f720e173",
   "metadata": {},
   "source": [
    "而这样的误差是否是可以接受的得看问题本身，即用**RSE**除以**acceleration**的均值："
   ]
  },
  {
   "cell_type": "code",
   "execution_count": 32,
   "id": "1f296dc2",
   "metadata": {
    "scrolled": true
   },
   "outputs": [
    {
     "name": "stdout",
     "output_type": "stream",
     "text": [
      "0.1287899284503108\n"
     ]
    }
   ],
   "source": [
    "print(np.sqrt(results.ssr/(n-2))/T.loc['mean','acceleration'])"
   ]
  },
  {
   "cell_type": "markdown",
   "id": "17fd3331",
   "metadata": {},
   "source": [
    "故误差率约为0.1288。在某种程度上是可以接受的。"
   ]
  },
  {
   "cell_type": "markdown",
   "id": "73a8c517",
   "metadata": {},
   "source": [
    "$\\bullet$**$R^2$**"
   ]
  },
  {
   "cell_type": "markdown",
   "id": "6149bb04",
   "metadata": {},
   "source": [
    "$R^2$提供了另一种检验策略。在该模型中，通过计算可以得到：  \n",
    "\n",
    "$$\\sum_{i=1}^{n}{(y_i-\\overline{y})^2}=\\sum_{i=1}^{n}{(y_i-\\hat{y}_i)^2}+\\sum_{i=1}^{n}{(\\hat{y}_i-\\overline{y})^2}$$"
   ]
  },
  {
   "cell_type": "markdown",
   "id": "c441fad7",
   "metadata": {},
   "source": [
    "左式称为**总平方和total sum of squares**，它度量的是观察值总的偏差，可以理解为在执行回归前其内在的偏差。**RSS**是在执行回归后，除了$x$对$y$的线性影响之外的其他因素造成的偏差。因此**TSS-RSS**是在执行回归后由于$x$的变化引起的$y$的变化带来的偏差，其是可以被线性关系解释的。如果该模型拟合度高，自然就希望**TSS-RSS**在**TSS**中占比更大。定义$R^2$:    \n",
    "\n",
    "$$ R^2=\\frac{TSS-RSS}{TSS}=1-\\frac{RSS}{TSS}$$"
   ]
  },
  {
   "cell_type": "markdown",
   "id": "d62bbb37",
   "metadata": {},
   "source": [
    "$R^2$统计量与**RSE**相比，值总是在$\\left[0,1\\right]$间，因此在某些情况下，其对拟合度的检验更直观。"
   ]
  },
  {
   "cell_type": "markdown",
   "id": "d52c4b5b",
   "metadata": {},
   "source": [
    "由表得：\n",
    "$$ R^2=0.475$$"
   ]
  },
  {
   "cell_type": "markdown",
   "id": "be4c2f22",
   "metadata": {},
   "source": [
    "故该模型是个较好的估计。"
   ]
  },
  {
   "cell_type": "markdown",
   "id": "0efbbb56",
   "metadata": {},
   "source": [
    "##### 模型的预测"
   ]
  },
  {
   "cell_type": "markdown",
   "id": "d4554f87",
   "metadata": {},
   "source": [
    "我们已经得到了一个较好的线性模型。现在根据自变量的值来预测因变量的值。"
   ]
  },
  {
   "cell_type": "markdown",
   "id": "a0b91cec",
   "metadata": {},
   "source": [
    "预测**horsepower**在60，160，260时的值(平均值)："
   ]
  },
  {
   "cell_type": "code",
   "execution_count": 33,
   "id": "39b12eae",
   "metadata": {},
   "outputs": [
    {
     "data": {
      "text/html": [
       "<div>\n",
       "<style scoped>\n",
       "    .dataframe tbody tr th:only-of-type {\n",
       "        vertical-align: middle;\n",
       "    }\n",
       "\n",
       "    .dataframe tbody tr th {\n",
       "        vertical-align: top;\n",
       "    }\n",
       "\n",
       "    .dataframe thead th {\n",
       "        text-align: right;\n",
       "    }\n",
       "</style>\n",
       "<table border=\"1\" class=\"dataframe\">\n",
       "  <thead>\n",
       "    <tr style=\"text-align: right;\">\n",
       "      <th></th>\n",
       "      <th>intercept</th>\n",
       "      <th>horsepower</th>\n",
       "    </tr>\n",
       "  </thead>\n",
       "  <tbody>\n",
       "    <tr>\n",
       "      <th>0</th>\n",
       "      <td>1.0</td>\n",
       "      <td>60</td>\n",
       "    </tr>\n",
       "    <tr>\n",
       "      <th>1</th>\n",
       "      <td>1.0</td>\n",
       "      <td>160</td>\n",
       "    </tr>\n",
       "    <tr>\n",
       "      <th>2</th>\n",
       "      <td>1.0</td>\n",
       "      <td>260</td>\n",
       "    </tr>\n",
       "  </tbody>\n",
       "</table>\n",
       "</div>"
      ],
      "text/plain": [
       "   intercept  horsepower\n",
       "0        1.0          60\n",
       "1        1.0         160\n",
       "2        1.0         260"
      ]
     },
     "execution_count": 33,
     "metadata": {},
     "output_type": "execute_result"
    }
   ],
   "source": [
    "new_df = pd.DataFrame({'horsepower':[60, 160, 260]})\n",
    "newX_horse = design.transform(new_df)\n",
    "newX_horse"
   ]
  },
  {
   "cell_type": "code",
   "execution_count": 34,
   "id": "15895b4d",
   "metadata": {},
   "outputs": [
    {
     "data": {
      "text/plain": [
       "array([17.73803742, 12.79821028,  7.85838314])"
      ]
     },
     "execution_count": 34,
     "metadata": {},
     "output_type": "execute_result"
    }
   ],
   "source": [
    "new_predictions = results.get_prediction(newX_horse)\n",
    "new_predictions.predicted_mean"
   ]
  },
  {
   "cell_type": "markdown",
   "id": "cf47a098",
   "metadata": {},
   "source": [
    "可得对应的**acceleration**为17.7，12.8，7.9"
   ]
  },
  {
   "cell_type": "markdown",
   "id": "8b22c301",
   "metadata": {},
   "source": [
    "0.95置信区间："
   ]
  },
  {
   "cell_type": "code",
   "execution_count": 35,
   "id": "bf4813f6",
   "metadata": {
    "scrolled": true
   },
   "outputs": [
    {
     "data": {
      "text/plain": [
       "array([[17.43411519, 18.04195964],\n",
       "       [12.4490141 , 13.14740645],\n",
       "       [ 7.03003889,  8.68672738]])"
      ]
     },
     "execution_count": 35,
     "metadata": {},
     "output_type": "execute_result"
    }
   ],
   "source": [
    "new_predictions.conf_int(alpha=0.05)"
   ]
  },
  {
   "cell_type": "markdown",
   "id": "d8581076",
   "metadata": {},
   "source": [
    "0.95预测区间："
   ]
  },
  {
   "cell_type": "code",
   "execution_count": 36,
   "id": "8e9aec28",
   "metadata": {},
   "outputs": [
    {
     "data": {
      "text/plain": [
       "array([[13.7911085 , 21.68496633],\n",
       "       [ 8.84753729, 16.74888327],\n",
       "       [ 3.83693647, 11.8798298 ]])"
      ]
     },
     "execution_count": 36,
     "metadata": {},
     "output_type": "execute_result"
    }
   ],
   "source": [
    "new_predictions.conf_int(obs=True, alpha=0.05)"
   ]
  },
  {
   "cell_type": "markdown",
   "id": "dfbcfac7",
   "metadata": {},
   "source": [
    "#### 多元线性回归"
   ]
  },
  {
   "cell_type": "markdown",
   "id": "3bce30f5",
   "metadata": {},
   "source": [
    "不过，我们不止有一个因子。上述构建的简单线性回归模型忽视了其他变量的影响，我们应该扩展该线性模型使其可以容纳多个变量。假设我们有$p$个预测因子，则多元线性回归模型有形式：    \n",
    "\n",
    "$$y=\\beta_0+\\beta_1x_1+\\cdots+\\beta_px_p+\\epsilon$$\n"
   ]
  },
  {
   "cell_type": "markdown",
   "id": "a49e4f91",
   "metadata": {},
   "source": [
    "设共$n$个数据。"
   ]
  },
  {
   "cell_type": "markdown",
   "id": "34cdb02d",
   "metadata": {},
   "source": [
    "##### 系数估计"
   ]
  },
  {
   "cell_type": "markdown",
   "id": "59f370a2",
   "metadata": {},
   "source": [
    "对每一个观察值，有：  \n",
    "$$y_i=\\beta_0+\\beta_1x_{i1}+\\cdots+\\beta_px_{ip}+\\epsilon_i$$"
   ]
  },
  {
   "cell_type": "markdown",
   "id": "895e4241",
   "metadata": {},
   "source": [
    "用矩阵来表示：  \n",
    "$$\\begin{align}\n",
    "Y&=\n",
    "\\begin{bmatrix}\n",
    "y_1 \\\\\n",
    "y_2 \\\\\n",
    "\\vdots \\\\\n",
    "y_n\n",
    "\\end{bmatrix} \\quad\n",
    "X=\n",
    "\\begin{bmatrix}\n",
    "1 & x_{11} & x_{12} &\\cdots & x_{1p} \\\\\n",
    "1& x_{21} & x_{22} &\\cdots & x_{2p} \\\\\n",
    "\\vdots & \\vdots &\\vdots & & \\vdots \\\\\n",
    "1 & x_{n1} & x_{n2} &\\cdots & x_{np}\n",
    "\\end{bmatrix}\\\\\n",
    "\\\\\n",
    "\\vec{\\beta}&=\n",
    "\\begin{bmatrix}\n",
    "\\beta_0 \\\\\n",
    "\\beta_1 \\\\\n",
    "\\vdots \\\\\n",
    "\\beta_p\n",
    "\\end{bmatrix} \\quad \n",
    "\\vec{\\epsilon}=\n",
    "\\begin{bmatrix}\n",
    "\\epsilon_1 \\\\\n",
    "\\epsilon_2 \\\\\n",
    "\\vdots \\\\\n",
    "\\epsilon_n\n",
    "\\end{bmatrix}\n",
    "\\end{align}$$\n",
    "\n",
    "\n",
    "\n"
   ]
  },
  {
   "cell_type": "markdown",
   "id": "3e5febd8",
   "metadata": {},
   "source": [
    "于是：\n",
    "$$ Y=X\\vec\\beta+\\vec\\epsilon$$"
   ]
  },
  {
   "cell_type": "markdown",
   "id": "5726a8b9",
   "metadata": {},
   "source": [
    "应用**最小二乘法**：  \n",
    "\n",
    "$$\\hat{\\beta}=\\mathop{argmin}\\limits_{\\vec{\\beta}}(Y-X\\vec{\\beta})^T(Y-X\\vec{\\beta})$$"
   ]
  },
  {
   "cell_type": "markdown",
   "id": "4cbe221a",
   "metadata": {},
   "source": [
    "则：  \n",
    "$$ RSS=(Y-X\\hat{\\beta})^T(Y-X\\hat{\\beta})$$"
   ]
  },
  {
   "cell_type": "markdown",
   "id": "b0c9d501",
   "metadata": {},
   "source": [
    "在这里，我们以**mpg、displacement、horsepower**作为预测因子来回归**acceleration**：    \n",
    "\n",
    "$$y_{acceleration}=\\beta_0+\\beta_1x_{mpg}+\\beta_2x_{displacement}+\\beta_3x_{horsepower}+\\epsilon$$\n"
   ]
  },
  {
   "cell_type": "markdown",
   "id": "9a9d9762",
   "metadata": {},
   "source": [
    "计算系数："
   ]
  },
  {
   "cell_type": "code",
   "execution_count": 37,
   "id": "91f90bd9",
   "metadata": {},
   "outputs": [
    {
     "name": "stdout",
     "output_type": "stream",
     "text": [
      "                            OLS Regression Results                            \n",
      "==============================================================================\n",
      "Dep. Variable:           acceleration   R-squared:                       0.519\n",
      "Model:                            OLS   Adj. R-squared:                  0.515\n",
      "Method:                 Least Squares   F-statistic:                     139.6\n",
      "Date:                Fri, 15 Dec 2023   Prob (F-statistic):           2.35e-61\n",
      "Time:                        23:18:17   Log-Likelihood:                -810.03\n",
      "No. Observations:                 392   AIC:                             1628.\n",
      "Df Residuals:                     388   BIC:                             1644.\n",
      "Df Model:                           3                                         \n",
      "Covariance Type:            nonrobust                                         \n",
      "================================================================================\n",
      "                   coef    std err          t      P>|t|      [0.025      0.975]\n",
      "--------------------------------------------------------------------------------\n",
      "intercept       24.1658      0.862     28.041      0.000      22.471      25.860\n",
      "mpg             -0.0762      0.021     -3.547      0.000      -0.118      -0.034\n",
      "displacement     0.0070      0.002      3.064      0.002       0.002       0.011\n",
      "horsepower      -0.0784      0.006    -13.408      0.000      -0.090      -0.067\n",
      "==============================================================================\n",
      "Omnibus:                       48.314   Durbin-Watson:                   1.564\n",
      "Prob(Omnibus):                  0.000   Jarque-Bera (JB):               78.323\n",
      "Skew:                           0.767   Prob(JB):                     9.83e-18\n",
      "Kurtosis:                       4.564   Cond. No.                     2.19e+03\n",
      "==============================================================================\n",
      "\n",
      "Notes:\n",
      "[1] Standard Errors assume that the covariance matrix of the errors is correctly specified.\n",
      "[2] The condition number is large, 2.19e+03. This might indicate that there are\n",
      "strong multicollinearity or other numerical problems.\n"
     ]
    }
   ],
   "source": [
    "design_multi=MS(['mpg', 'displacement','horsepower'])\n",
    "design_multi=design_multi.fit(AUTO)\n",
    "X_multi= design_multi.transform(AUTO) #model matrix\n",
    "model1 = sm.OLS(y_acce, X_multi)\n",
    "results1 = model1.fit()\n",
    "print(results1.summary())"
   ]
  },
  {
   "cell_type": "markdown",
   "id": "ef5637c0",
   "metadata": {},
   "source": [
    "可以看到：  \n",
    "$$\\hat{\\beta}_0=24.1658 ,\\hat{\\beta}_1=-0.0762 ,\\hat{\\beta}_2=0.0070 ,\\hat{\\beta}_3=-0.0784 $$"
   ]
  },
  {
   "cell_type": "markdown",
   "id": "47581888",
   "metadata": {},
   "source": [
    "##### 估计量的检验"
   ]
  },
  {
   "cell_type": "markdown",
   "id": "a532efe0",
   "metadata": {},
   "source": [
    "和简单线性回归一样，我们需要讨论这些因子是否真的和**acceleration**有关系。更进一步，如果有关系，谁的影响更大，谁几乎不做影响。"
   ]
  },
  {
   "cell_type": "markdown",
   "id": "360bdf6c",
   "metadata": {},
   "source": [
    "我们假设：    \n",
    "\n",
    "$$H_0:\\beta_0=\\beta_1=\\cdots=\\beta_p=0 \\quad H_1:\\exists \\beta_j\\neq0$$"
   ]
  },
  {
   "cell_type": "markdown",
   "id": "c0383c5f",
   "metadata": {},
   "source": [
    "用**F-statistic**来检验,在$H_0$成立时：    \n",
    "\n",
    "$$F=\\frac{(TSS-RSS)/p}{RSS/(n-p-1)}\\sim F(p,n-p-1)$$"
   ]
  },
  {
   "cell_type": "markdown",
   "id": "e0c0d895",
   "metadata": {},
   "source": [
    "如果线性模型正确的话：    \n",
    "\n",
    "$$E[RSS/(n-p-1)]=\\sigma^2$$"
   ]
  },
  {
   "cell_type": "markdown",
   "id": "0a33cda8",
   "metadata": {},
   "source": [
    "$H_0$成立时：  \n",
    "$$E[(TSS-RSS)/p]=\\sigma^2$$"
   ]
  },
  {
   "cell_type": "markdown",
   "id": "8357a6df",
   "metadata": {},
   "source": [
    "故若$H_0$成立，则**F-statistic**应接近于0，而由表得："
   ]
  },
  {
   "cell_type": "markdown",
   "id": "70dda9ad",
   "metadata": {},
   "source": [
    "$$ F=139.6 $$"
   ]
  },
  {
   "cell_type": "markdown",
   "id": "35f27b5d",
   "metadata": {},
   "source": [
    "故$H_0$被拒绝，即至少有一个因子影响**acceleration**。"
   ]
  },
  {
   "cell_type": "markdown",
   "id": "6e0f4914",
   "metadata": {},
   "source": [
    "---"
   ]
  },
  {
   "cell_type": "markdown",
   "id": "2ebb99f5",
   "metadata": {},
   "source": [
    "我们也可以检验因子系数的子集是否为零,为了方便，我们取末尾的因子：    \n",
    "\n",
    "$$H_0:\\beta_{p-q+1}=\\beta_{p-q+2}=\\cdots=\\beta_{p}=0$$"
   ]
  },
  {
   "cell_type": "markdown",
   "id": "8a486aa2",
   "metadata": {},
   "source": [
    "将这q个因子抛弃，建立新的线性模型，可以计算得到这个新模型的residual sum of squares，记为$RSS_0$,则**F-statistic**为：  \n",
    "\n",
    "$$ F=\\frac{(RSS_0-RSS)/q}{RSS/(n-p-1)}\\sim F(q,n-p-1)$$"
   ]
  },
  {
   "cell_type": "markdown",
   "id": "6b184c99",
   "metadata": {},
   "source": [
    "取q=1，即检验单个因子系数是否为零。可以证明，用**t-test**给出的上表诸因子的**t-statistic**和**p-value**与**F-test**等价。于是，$\\beta_0,\\beta_1,\\beta_3$都不为零，而在检验水平为0.01时，$\\beta_2=0$。即在$\\alpha=0.01$时，可以认为该线性模型中，**mpg、horsepower**都与**acceleration**有关系，而**displacement**没有关系。"
   ]
  },
  {
   "cell_type": "markdown",
   "id": "6696e8fc",
   "metadata": {},
   "source": [
    "##### 模型拟合度的检验"
   ]
  },
  {
   "cell_type": "markdown",
   "id": "67dcaad0",
   "metadata": {},
   "source": [
    "同简单线性回归，我们用$RSE,R^2$来描述拟合度。"
   ]
  },
  {
   "cell_type": "markdown",
   "id": "5308ba52",
   "metadata": {},
   "source": [
    "计算**RSE**："
   ]
  },
  {
   "cell_type": "code",
   "execution_count": 38,
   "id": "84a82363",
   "metadata": {},
   "outputs": [
    {
     "name": "stdout",
     "output_type": "stream",
     "text": [
      "RSE=1.9205317748992359\n"
     ]
    }
   ],
   "source": [
    "print('RSE={}'.format(np.sqrt(results1.scale)))"
   ]
  },
  {
   "cell_type": "code",
   "execution_count": 39,
   "id": "ce14997a",
   "metadata": {},
   "outputs": [
    {
     "name": "stdout",
     "output_type": "stream",
     "text": [
      "0.12325852629453005\n"
     ]
    }
   ],
   "source": [
    "#误差率\n",
    "print(np.sqrt(results1.ssr/(n-2))/T.loc['mean','acceleration'])"
   ]
  },
  {
   "cell_type": "markdown",
   "id": "ad0fd849",
   "metadata": {},
   "source": [
    "可以看到，用三个因子拟合的误差率小于仅用单因子拟合的误差率，拟合度提高了。"
   ]
  },
  {
   "cell_type": "markdown",
   "id": "01e7821b",
   "metadata": {},
   "source": [
    "由表得：  \n",
    "$$ R^2= 0.519$$  \n",
    "$R^2$也有明显提高。"
   ]
  },
  {
   "cell_type": "markdown",
   "id": "a1821ac4",
   "metadata": {},
   "source": [
    "综上，多元线性回归模型得到了更好的结果。"
   ]
  },
  {
   "cell_type": "markdown",
   "id": "10c42307",
   "metadata": {},
   "source": [
    "##### 模型的预测"
   ]
  },
  {
   "cell_type": "markdown",
   "id": "f0a60667",
   "metadata": {},
   "source": [
    "预测**mpg**在10、30、50，**displacement**在70，150，230，**horsepower**在60，160，260时，**acceleration**的值："
   ]
  },
  {
   "cell_type": "code",
   "execution_count": 40,
   "id": "e44e499b",
   "metadata": {},
   "outputs": [
    {
     "data": {
      "text/html": [
       "<div>\n",
       "<style scoped>\n",
       "    .dataframe tbody tr th:only-of-type {\n",
       "        vertical-align: middle;\n",
       "    }\n",
       "\n",
       "    .dataframe tbody tr th {\n",
       "        vertical-align: top;\n",
       "    }\n",
       "\n",
       "    .dataframe thead th {\n",
       "        text-align: right;\n",
       "    }\n",
       "</style>\n",
       "<table border=\"1\" class=\"dataframe\">\n",
       "  <thead>\n",
       "    <tr style=\"text-align: right;\">\n",
       "      <th></th>\n",
       "      <th>intercept</th>\n",
       "      <th>mpg</th>\n",
       "      <th>displacement</th>\n",
       "      <th>horsepower</th>\n",
       "    </tr>\n",
       "  </thead>\n",
       "  <tbody>\n",
       "    <tr>\n",
       "      <th>0</th>\n",
       "      <td>1.0</td>\n",
       "      <td>10</td>\n",
       "      <td>70</td>\n",
       "      <td>60</td>\n",
       "    </tr>\n",
       "    <tr>\n",
       "      <th>1</th>\n",
       "      <td>1.0</td>\n",
       "      <td>30</td>\n",
       "      <td>150</td>\n",
       "      <td>160</td>\n",
       "    </tr>\n",
       "    <tr>\n",
       "      <th>2</th>\n",
       "      <td>1.0</td>\n",
       "      <td>50</td>\n",
       "      <td>230</td>\n",
       "      <td>260</td>\n",
       "    </tr>\n",
       "  </tbody>\n",
       "</table>\n",
       "</div>"
      ],
      "text/plain": [
       "   intercept  mpg  displacement  horsepower\n",
       "0        1.0   10            70          60\n",
       "1        1.0   30           150         160\n",
       "2        1.0   50           230         260"
      ]
     },
     "execution_count": 40,
     "metadata": {},
     "output_type": "execute_result"
    }
   ],
   "source": [
    "new_df_multi = pd.DataFrame({'mpg':[10, 30, 50],'displacement':[70,150,230],'horsepower':[60,160,260]})\n",
    "newX_multi = design_multi.transform(new_df_multi)\n",
    "newX_multi"
   ]
  },
  {
   "cell_type": "code",
   "execution_count": 41,
   "id": "d5d0ff26",
   "metadata": {},
   "outputs": [
    {
     "name": "stdout",
     "output_type": "stream",
     "text": [
      "acceleration=[19.18584314 10.37605202  1.5662609 ]\n"
     ]
    }
   ],
   "source": [
    "new_predictions_multi = results1.get_prediction(newX_multi); #预测\n",
    "print('acceleration={}'.format(new_predictions_multi.predicted_mean))"
   ]
  },
  {
   "cell_type": "markdown",
   "id": "7b9ff9b9",
   "metadata": {},
   "source": [
    "0.95置信区间："
   ]
  },
  {
   "cell_type": "code",
   "execution_count": 42,
   "id": "71f5a304",
   "metadata": {},
   "outputs": [
    {
     "data": {
      "text/plain": [
       "array([[18.2453696 , 20.12631668],\n",
       "       [ 9.49375781, 11.25834623],\n",
       "       [-0.69240055,  3.82492235]])"
      ]
     },
     "execution_count": 42,
     "metadata": {},
     "output_type": "execute_result"
    }
   ],
   "source": [
    "new_predictions_multi.conf_int(alpha=0.05)"
   ]
  },
  {
   "cell_type": "markdown",
   "id": "0ec6c731",
   "metadata": {},
   "source": [
    "0.95预测区间："
   ]
  },
  {
   "cell_type": "code",
   "execution_count": 43,
   "id": "6f4a417d",
   "metadata": {},
   "outputs": [
    {
     "data": {
      "text/plain": [
       "array([[15.29453226, 23.07715403],\n",
       "       [ 6.49839125, 14.25371278],\n",
       "       [-2.83366654,  5.96618834]])"
      ]
     },
     "execution_count": 43,
     "metadata": {},
     "output_type": "execute_result"
    }
   ],
   "source": [
    "new_predictions_multi.conf_int(obs=True,alpha=0.05)"
   ]
  },
  {
   "cell_type": "markdown",
   "id": "c6ccb90c",
   "metadata": {},
   "source": [
    "## 总结"
   ]
  },
  {
   "cell_type": "markdown",
   "id": "70113391",
   "metadata": {},
   "source": [
    "可见，数理统计提供了众多分析复杂数据的方法。通过对样本的观察，我们可以得到很多潜在的信息，例如数据的分布。我们甚至还可以做到对数据进行有效的预测。另外，python在数据分析中越来越受欢迎，对于想要理解数据的人来说，python显然是必备武器。"
   ]
  }
 ],
 "metadata": {
  "kernelspec": {
   "display_name": "Python 3 (ipykernel)",
   "language": "python",
   "name": "python3"
  },
  "language_info": {
   "codemirror_mode": {
    "name": "ipython",
    "version": 3
   },
   "file_extension": ".py",
   "mimetype": "text/x-python",
   "name": "python",
   "nbconvert_exporter": "python",
   "pygments_lexer": "ipython3",
   "version": "3.11.5"
  },
  "toc": {
   "base_numbering": 1,
   "nav_menu": {},
   "number_sections": true,
   "sideBar": true,
   "skip_h1_title": true,
   "title_cell": "Table of Contents",
   "title_sidebar": "Contents",
   "toc_cell": true,
   "toc_position": {},
   "toc_section_display": true,
   "toc_window_display": false
  }
 },
 "nbformat": 4,
 "nbformat_minor": 5
}
